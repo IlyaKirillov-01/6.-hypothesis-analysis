{
 "cells": [
  {
   "cell_type": "markdown",
   "metadata": {},
   "source": [
    "# Введение\n",
    "\n",
    "В данном проекте я изучу выдвинутые гипотезы по увеличению выручки интернет-магазина.\n",
    "\n",
    "Проведу приоритезацию гипотез, запущу A/B тесты и проанализирую результаты. \n",
    "\n"
   ]
  },
  {
   "cell_type": "markdown",
   "metadata": {},
   "source": [
    "# Приоритезация гипотез"
   ]
  },
  {
   "cell_type": "markdown",
   "metadata": {},
   "source": [
    "## Импорт данных"
   ]
  },
  {
   "cell_type": "code",
   "execution_count": 2,
   "metadata": {},
   "outputs": [],
   "source": [
    "import pandas as pd\n",
    "import numpy as np\n",
    "import matplotlib.pyplot as plt\n"
   ]
  },
  {
   "cell_type": "code",
   "execution_count": 3,
   "metadata": {},
   "outputs": [],
   "source": [
    "hypothesis = pd.read_csv('/datasets/hypothesis.csv') #помещаем данные файла о гипотезах в переменную"
   ]
  },
  {
   "cell_type": "code",
   "execution_count": 4,
   "metadata": {
    "scrolled": true
   },
   "outputs": [
    {
     "data": {
      "text/html": [
       "<div>\n",
       "<style scoped>\n",
       "    .dataframe tbody tr th:only-of-type {\n",
       "        vertical-align: middle;\n",
       "    }\n",
       "\n",
       "    .dataframe tbody tr th {\n",
       "        vertical-align: top;\n",
       "    }\n",
       "\n",
       "    .dataframe thead th {\n",
       "        text-align: right;\n",
       "    }\n",
       "</style>\n",
       "<table border=\"1\" class=\"dataframe\">\n",
       "  <thead>\n",
       "    <tr style=\"text-align: right;\">\n",
       "      <th></th>\n",
       "      <th>Hypothesis</th>\n",
       "      <th>Reach</th>\n",
       "      <th>Impact</th>\n",
       "      <th>Confidence</th>\n",
       "      <th>Efforts</th>\n",
       "    </tr>\n",
       "  </thead>\n",
       "  <tbody>\n",
       "    <tr>\n",
       "      <th>0</th>\n",
       "      <td>Добавить два новых канала привлечения трафика,...</td>\n",
       "      <td>3</td>\n",
       "      <td>10</td>\n",
       "      <td>8</td>\n",
       "      <td>6</td>\n",
       "    </tr>\n",
       "    <tr>\n",
       "      <th>1</th>\n",
       "      <td>Запустить собственную службу доставки, что сок...</td>\n",
       "      <td>2</td>\n",
       "      <td>5</td>\n",
       "      <td>4</td>\n",
       "      <td>10</td>\n",
       "    </tr>\n",
       "    <tr>\n",
       "      <th>2</th>\n",
       "      <td>Добавить блоки рекомендаций товаров на сайт ин...</td>\n",
       "      <td>8</td>\n",
       "      <td>3</td>\n",
       "      <td>7</td>\n",
       "      <td>3</td>\n",
       "    </tr>\n",
       "    <tr>\n",
       "      <th>3</th>\n",
       "      <td>Изменить структура категорий, что увеличит кон...</td>\n",
       "      <td>8</td>\n",
       "      <td>3</td>\n",
       "      <td>3</td>\n",
       "      <td>8</td>\n",
       "    </tr>\n",
       "    <tr>\n",
       "      <th>4</th>\n",
       "      <td>Изменить цвет фона главной страницы, чтобы уве...</td>\n",
       "      <td>3</td>\n",
       "      <td>1</td>\n",
       "      <td>1</td>\n",
       "      <td>1</td>\n",
       "    </tr>\n",
       "    <tr>\n",
       "      <th>5</th>\n",
       "      <td>Добавить страницу отзывов клиентов о магазине,...</td>\n",
       "      <td>3</td>\n",
       "      <td>2</td>\n",
       "      <td>2</td>\n",
       "      <td>3</td>\n",
       "    </tr>\n",
       "    <tr>\n",
       "      <th>6</th>\n",
       "      <td>Показать на главной странице баннеры с актуаль...</td>\n",
       "      <td>5</td>\n",
       "      <td>3</td>\n",
       "      <td>8</td>\n",
       "      <td>3</td>\n",
       "    </tr>\n",
       "    <tr>\n",
       "      <th>7</th>\n",
       "      <td>Добавить форму подписки на все основные страни...</td>\n",
       "      <td>10</td>\n",
       "      <td>7</td>\n",
       "      <td>8</td>\n",
       "      <td>5</td>\n",
       "    </tr>\n",
       "    <tr>\n",
       "      <th>8</th>\n",
       "      <td>Запустить акцию, дающую скидку на товар в день...</td>\n",
       "      <td>1</td>\n",
       "      <td>9</td>\n",
       "      <td>9</td>\n",
       "      <td>5</td>\n",
       "    </tr>\n",
       "  </tbody>\n",
       "</table>\n",
       "</div>"
      ],
      "text/plain": [
       "                                          Hypothesis  Reach  Impact  \\\n",
       "0  Добавить два новых канала привлечения трафика,...      3      10   \n",
       "1  Запустить собственную службу доставки, что сок...      2       5   \n",
       "2  Добавить блоки рекомендаций товаров на сайт ин...      8       3   \n",
       "3  Изменить структура категорий, что увеличит кон...      8       3   \n",
       "4  Изменить цвет фона главной страницы, чтобы уве...      3       1   \n",
       "5  Добавить страницу отзывов клиентов о магазине,...      3       2   \n",
       "6  Показать на главной странице баннеры с актуаль...      5       3   \n",
       "7  Добавить форму подписки на все основные страни...     10       7   \n",
       "8  Запустить акцию, дающую скидку на товар в день...      1       9   \n",
       "\n",
       "   Confidence  Efforts  \n",
       "0           8        6  \n",
       "1           4       10  \n",
       "2           7        3  \n",
       "3           3        8  \n",
       "4           1        1  \n",
       "5           2        3  \n",
       "6           8        3  \n",
       "7           8        5  \n",
       "8           9        5  "
      ]
     },
     "metadata": {},
     "output_type": "display_data"
    },
    {
     "data": {
      "text/plain": [
       "array(['Добавить два новых канала привлечения трафика, что позволит привлекать на 30% больше пользователей',\n",
       "       'Запустить собственную службу доставки, что сократит срок доставки заказов',\n",
       "       'Добавить блоки рекомендаций товаров на сайт интернет магазина, чтобы повысить конверсию и средний чек заказа',\n",
       "       'Изменить структура категорий, что увеличит конверсию, т.к. пользователи быстрее найдут нужный товар',\n",
       "       'Изменить цвет фона главной страницы, чтобы увеличить вовлеченность пользователей',\n",
       "       'Добавить страницу отзывов клиентов о магазине, что позволит увеличить количество заказов',\n",
       "       'Показать на главной странице баннеры с актуальными акциями и распродажами, чтобы увеличить конверсию',\n",
       "       'Добавить форму подписки на все основные страницы, чтобы собрать базу клиентов для email-рассылок',\n",
       "       'Запустить акцию, дающую скидку на товар в день рождения'],\n",
       "      dtype=object)"
      ]
     },
     "metadata": {},
     "output_type": "display_data"
    }
   ],
   "source": [
    "display(hypothesis)\n",
    "display(pd.unique(hypothesis['Hypothesis']))"
   ]
  },
  {
   "cell_type": "markdown",
   "metadata": {},
   "source": [
    "## Обработка данных\n"
   ]
  },
  {
   "cell_type": "markdown",
   "metadata": {},
   "source": [
    "Приведу названия столбцов к нижнему регистру"
   ]
  },
  {
   "cell_type": "code",
   "execution_count": 5,
   "metadata": {},
   "outputs": [],
   "source": [
    "hypothesis.columns = [x.lower() for x in hypothesis.columns]"
   ]
  },
  {
   "cell_type": "markdown",
   "metadata": {},
   "source": [
    "Проведем приоритезацию гипотез с помощью двух методов: ICE и RICE"
   ]
  },
  {
   "cell_type": "markdown",
   "metadata": {},
   "source": [
    "## ICE"
   ]
  },
  {
   "cell_type": "code",
   "execution_count": 6,
   "metadata": {},
   "outputs": [],
   "source": [
    "hypothesis['ice_score'] = round(hypothesis['impact']*hypothesis['confidence']/hypothesis['efforts'], 2)"
   ]
  },
  {
   "cell_type": "code",
   "execution_count": 7,
   "metadata": {},
   "outputs": [],
   "source": [
    "ice_score = hypothesis.iloc [:, [0,5]]\n"
   ]
  },
  {
   "cell_type": "code",
   "execution_count": 8,
   "metadata": {},
   "outputs": [
    {
     "data": {
      "text/html": [
       "<div>\n",
       "<style scoped>\n",
       "    .dataframe tbody tr th:only-of-type {\n",
       "        vertical-align: middle;\n",
       "    }\n",
       "\n",
       "    .dataframe tbody tr th {\n",
       "        vertical-align: top;\n",
       "    }\n",
       "\n",
       "    .dataframe thead th {\n",
       "        text-align: right;\n",
       "    }\n",
       "</style>\n",
       "<table border=\"1\" class=\"dataframe\">\n",
       "  <thead>\n",
       "    <tr style=\"text-align: right;\">\n",
       "      <th></th>\n",
       "      <th>hypothesis</th>\n",
       "      <th>ice_score</th>\n",
       "    </tr>\n",
       "  </thead>\n",
       "  <tbody>\n",
       "    <tr>\n",
       "      <th>8</th>\n",
       "      <td>Запустить акцию, дающую скидку на товар в день...</td>\n",
       "      <td>16.20</td>\n",
       "    </tr>\n",
       "    <tr>\n",
       "      <th>0</th>\n",
       "      <td>Добавить два новых канала привлечения трафика,...</td>\n",
       "      <td>13.33</td>\n",
       "    </tr>\n",
       "    <tr>\n",
       "      <th>7</th>\n",
       "      <td>Добавить форму подписки на все основные страни...</td>\n",
       "      <td>11.20</td>\n",
       "    </tr>\n",
       "    <tr>\n",
       "      <th>6</th>\n",
       "      <td>Показать на главной странице баннеры с актуаль...</td>\n",
       "      <td>8.00</td>\n",
       "    </tr>\n",
       "    <tr>\n",
       "      <th>2</th>\n",
       "      <td>Добавить блоки рекомендаций товаров на сайт ин...</td>\n",
       "      <td>7.00</td>\n",
       "    </tr>\n",
       "    <tr>\n",
       "      <th>1</th>\n",
       "      <td>Запустить собственную службу доставки, что сок...</td>\n",
       "      <td>2.00</td>\n",
       "    </tr>\n",
       "    <tr>\n",
       "      <th>5</th>\n",
       "      <td>Добавить страницу отзывов клиентов о магазине,...</td>\n",
       "      <td>1.33</td>\n",
       "    </tr>\n",
       "    <tr>\n",
       "      <th>3</th>\n",
       "      <td>Изменить структура категорий, что увеличит кон...</td>\n",
       "      <td>1.12</td>\n",
       "    </tr>\n",
       "    <tr>\n",
       "      <th>4</th>\n",
       "      <td>Изменить цвет фона главной страницы, чтобы уве...</td>\n",
       "      <td>1.00</td>\n",
       "    </tr>\n",
       "  </tbody>\n",
       "</table>\n",
       "</div>"
      ],
      "text/plain": [
       "                                          hypothesis  ice_score\n",
       "8  Запустить акцию, дающую скидку на товар в день...      16.20\n",
       "0  Добавить два новых канала привлечения трафика,...      13.33\n",
       "7  Добавить форму подписки на все основные страни...      11.20\n",
       "6  Показать на главной странице баннеры с актуаль...       8.00\n",
       "2  Добавить блоки рекомендаций товаров на сайт ин...       7.00\n",
       "1  Запустить собственную службу доставки, что сок...       2.00\n",
       "5  Добавить страницу отзывов клиентов о магазине,...       1.33\n",
       "3  Изменить структура категорий, что увеличит кон...       1.12\n",
       "4  Изменить цвет фона главной страницы, чтобы уве...       1.00"
      ]
     },
     "execution_count": 8,
     "metadata": {},
     "output_type": "execute_result"
    }
   ],
   "source": [
    "ice_score.sort_values(by = 'ice_score', ascending=False)"
   ]
  },
  {
   "cell_type": "markdown",
   "metadata": {},
   "source": [
    "Три наиболее популярные гипотезы в соответствии с данной оценкой - это 8,0,7. \n",
    "\n",
    "- Запустить акцию, дающую скидку на товар в день рождения\n",
    "- Добавить два новых канала привлечения трафика, что позволит привлекать на 30% больше пользователей\n",
    "- Добавить форму подписки на все основные страницы, чтобы собрать базу клиентов для email-рассылок\n"
   ]
  },
  {
   "cell_type": "markdown",
   "metadata": {},
   "source": [
    "## RICE"
   ]
  },
  {
   "cell_type": "code",
   "execution_count": 9,
   "metadata": {},
   "outputs": [],
   "source": [
    "hypothesis['rice_score'] = round(hypothesis['reach']*hypothesis['impact']*hypothesis['confidence']/hypothesis['efforts'], 2)"
   ]
  },
  {
   "cell_type": "code",
   "execution_count": 10,
   "metadata": {},
   "outputs": [],
   "source": [
    "rice_score = hypothesis.iloc [:, [0,6]]\n"
   ]
  },
  {
   "cell_type": "code",
   "execution_count": 11,
   "metadata": {},
   "outputs": [
    {
     "data": {
      "text/html": [
       "<div>\n",
       "<style scoped>\n",
       "    .dataframe tbody tr th:only-of-type {\n",
       "        vertical-align: middle;\n",
       "    }\n",
       "\n",
       "    .dataframe tbody tr th {\n",
       "        vertical-align: top;\n",
       "    }\n",
       "\n",
       "    .dataframe thead th {\n",
       "        text-align: right;\n",
       "    }\n",
       "</style>\n",
       "<table border=\"1\" class=\"dataframe\">\n",
       "  <thead>\n",
       "    <tr style=\"text-align: right;\">\n",
       "      <th></th>\n",
       "      <th>hypothesis</th>\n",
       "      <th>rice_score</th>\n",
       "    </tr>\n",
       "  </thead>\n",
       "  <tbody>\n",
       "    <tr>\n",
       "      <th>7</th>\n",
       "      <td>Добавить форму подписки на все основные страни...</td>\n",
       "      <td>112.0</td>\n",
       "    </tr>\n",
       "    <tr>\n",
       "      <th>2</th>\n",
       "      <td>Добавить блоки рекомендаций товаров на сайт ин...</td>\n",
       "      <td>56.0</td>\n",
       "    </tr>\n",
       "    <tr>\n",
       "      <th>0</th>\n",
       "      <td>Добавить два новых канала привлечения трафика,...</td>\n",
       "      <td>40.0</td>\n",
       "    </tr>\n",
       "    <tr>\n",
       "      <th>6</th>\n",
       "      <td>Показать на главной странице баннеры с актуаль...</td>\n",
       "      <td>40.0</td>\n",
       "    </tr>\n",
       "    <tr>\n",
       "      <th>8</th>\n",
       "      <td>Запустить акцию, дающую скидку на товар в день...</td>\n",
       "      <td>16.2</td>\n",
       "    </tr>\n",
       "    <tr>\n",
       "      <th>3</th>\n",
       "      <td>Изменить структура категорий, что увеличит кон...</td>\n",
       "      <td>9.0</td>\n",
       "    </tr>\n",
       "    <tr>\n",
       "      <th>1</th>\n",
       "      <td>Запустить собственную службу доставки, что сок...</td>\n",
       "      <td>4.0</td>\n",
       "    </tr>\n",
       "    <tr>\n",
       "      <th>5</th>\n",
       "      <td>Добавить страницу отзывов клиентов о магазине,...</td>\n",
       "      <td>4.0</td>\n",
       "    </tr>\n",
       "    <tr>\n",
       "      <th>4</th>\n",
       "      <td>Изменить цвет фона главной страницы, чтобы уве...</td>\n",
       "      <td>3.0</td>\n",
       "    </tr>\n",
       "  </tbody>\n",
       "</table>\n",
       "</div>"
      ],
      "text/plain": [
       "                                          hypothesis  rice_score\n",
       "7  Добавить форму подписки на все основные страни...       112.0\n",
       "2  Добавить блоки рекомендаций товаров на сайт ин...        56.0\n",
       "0  Добавить два новых канала привлечения трафика,...        40.0\n",
       "6  Показать на главной странице баннеры с актуаль...        40.0\n",
       "8  Запустить акцию, дающую скидку на товар в день...        16.2\n",
       "3  Изменить структура категорий, что увеличит кон...         9.0\n",
       "1  Запустить собственную службу доставки, что сок...         4.0\n",
       "5  Добавить страницу отзывов клиентов о магазине,...         4.0\n",
       "4  Изменить цвет фона главной страницы, чтобы уве...         3.0"
      ]
     },
     "execution_count": 11,
     "metadata": {},
     "output_type": "execute_result"
    }
   ],
   "source": [
    "rice_score.sort_values(by = 'rice_score', ascending=False)"
   ]
  },
  {
   "cell_type": "markdown",
   "metadata": {},
   "source": [
    "В соответствии с методом RICE первые места занимают следующие гипотезы 7,2,0,6:\n",
    "\n",
    "- Добавить форму подписки на все основные страницы, чтобы собрать базу клиентов для email-рассылок\n",
    "- Добавить блоки рекомендаций товаров на сайт интернет магазина, чтобы повысить конверсию и средний чек заказа\n",
    "- Добавить два новых канала привлечения трафика, что позволит привлекать на 30% больше пользователей\n",
    "- Добавить два новых канала привлечения трафика, что позволит привлекать на 30% больше пользователей"
   ]
  },
  {
   "cell_type": "markdown",
   "metadata": {},
   "source": [
    "**Вывод** - \n",
    "\n",
    "Рейтинги гипотез различны по причине разного охвата пользователей\n",
    "\n",
    "На мой взгляд, гипотеза номер 7 является приоритетной из всех:\n",
    "\n",
    "- во-первых, она находится в топе при двух методах оценки\n",
    "- во-вторых, рейтинг по методу RICE более чем в 2 раза выше остальных гипотез - значит, данная гипотеза охватит больше потенциальных клиентов (показатель Reach самый высокий из всех)."
   ]
  },
  {
   "cell_type": "markdown",
   "metadata": {},
   "source": [
    "# Анализ A/B-теста"
   ]
  },
  {
   "cell_type": "code",
   "execution_count": 12,
   "metadata": {},
   "outputs": [],
   "source": [
    "orders = pd.read_csv('/datasets/orders.csv') # импорт данных\n",
    "visitors = pd.read_csv('/datasets/visitors.csv') # импорт данных"
   ]
  },
  {
   "cell_type": "markdown",
   "metadata": {},
   "source": [
    "Проверяю данные на отсутствующие значения, правильность заголовков, наличие дубликатов"
   ]
  },
  {
   "cell_type": "code",
   "execution_count": 13,
   "metadata": {},
   "outputs": [
    {
     "name": "stdout",
     "output_type": "stream",
     "text": [
      "<class 'pandas.core.frame.DataFrame'>\n",
      "RangeIndex: 1197 entries, 0 to 1196\n",
      "Data columns (total 5 columns):\n",
      " #   Column         Non-Null Count  Dtype \n",
      "---  ------         --------------  ----- \n",
      " 0   transactionId  1197 non-null   int64 \n",
      " 1   visitorId      1197 non-null   int64 \n",
      " 2   date           1197 non-null   object\n",
      " 3   revenue        1197 non-null   int64 \n",
      " 4   group          1197 non-null   object\n",
      "dtypes: int64(3), object(2)\n",
      "memory usage: 46.9+ KB\n"
     ]
    },
    {
     "data": {
      "text/plain": [
       "None"
      ]
     },
     "metadata": {},
     "output_type": "display_data"
    },
    {
     "data": {
      "text/plain": [
       "0"
      ]
     },
     "metadata": {},
     "output_type": "display_data"
    }
   ],
   "source": [
    "display(orders.info())\n",
    "display(orders.duplicated().sum())"
   ]
  },
  {
   "cell_type": "code",
   "execution_count": 14,
   "metadata": {},
   "outputs": [
    {
     "name": "stdout",
     "output_type": "stream",
     "text": [
      "<class 'pandas.core.frame.DataFrame'>\n",
      "RangeIndex: 62 entries, 0 to 61\n",
      "Data columns (total 3 columns):\n",
      " #   Column    Non-Null Count  Dtype \n",
      "---  ------    --------------  ----- \n",
      " 0   date      62 non-null     object\n",
      " 1   group     62 non-null     object\n",
      " 2   visitors  62 non-null     int64 \n",
      "dtypes: int64(1), object(2)\n",
      "memory usage: 1.6+ KB\n"
     ]
    },
    {
     "data": {
      "text/plain": [
       "None"
      ]
     },
     "metadata": {},
     "output_type": "display_data"
    },
    {
     "data": {
      "text/plain": [
       "0"
      ]
     },
     "metadata": {},
     "output_type": "display_data"
    }
   ],
   "source": [
    "display(visitors.info())\n",
    "display(visitors.duplicated().sum())"
   ]
  },
  {
   "cell_type": "markdown",
   "metadata": {},
   "source": [
    "Изменяю формат даты на верный"
   ]
  },
  {
   "cell_type": "code",
   "execution_count": 15,
   "metadata": {},
   "outputs": [],
   "source": [
    "orders['date']= pd.to_datetime(orders['date'])"
   ]
  },
  {
   "cell_type": "code",
   "execution_count": 16,
   "metadata": {},
   "outputs": [],
   "source": [
    "visitors['date']= pd.to_datetime(visitors['date'])"
   ]
  },
  {
   "cell_type": "code",
   "execution_count": 17,
   "metadata": {
    "scrolled": true
   },
   "outputs": [
    {
     "name": "stdout",
     "output_type": "stream",
     "text": [
      "<class 'pandas.core.frame.DataFrame'>\n",
      "RangeIndex: 62 entries, 0 to 61\n",
      "Data columns (total 3 columns):\n",
      " #   Column    Non-Null Count  Dtype         \n",
      "---  ------    --------------  -----         \n",
      " 0   date      62 non-null     datetime64[ns]\n",
      " 1   group     62 non-null     object        \n",
      " 2   visitors  62 non-null     int64         \n",
      "dtypes: datetime64[ns](1), int64(1), object(1)\n",
      "memory usage: 1.6+ KB\n"
     ]
    }
   ],
   "source": [
    "visitors.info()"
   ]
  },
  {
   "cell_type": "markdown",
   "metadata": {},
   "source": [
    "**Подготовка данных для дальнейших действий и графиков.** "
   ]
  },
  {
   "cell_type": "code",
   "execution_count": 18,
   "metadata": {},
   "outputs": [],
   "source": [
    "#создание уникальных пар \"дата-группа\"\n",
    "datesGroups = orders[['date','group']].drop_duplicates() "
   ]
  },
  {
   "cell_type": "code",
   "execution_count": 19,
   "metadata": {},
   "outputs": [],
   "source": [
    "# создаю агрегированные и кумулятивные данные по заказам\n",
    "ordersAggregated  = datesGroups.apply(lambda x: orders[np.logical_and(orders['date'] <= x['date'], orders['group'] == x['group'])]\\\n",
    ".agg({'date' : 'max', 'group' : 'max','transactionId' : 'nunique', 'visitorId' : 'nunique', 'revenue' : 'sum'}), axis=1).sort_values(by=['date','group'])"
   ]
  },
  {
   "cell_type": "code",
   "execution_count": 20,
   "metadata": {},
   "outputs": [],
   "source": [
    "\n",
    "# создаю агрегированные и кумулятивные данные по посещениям\n",
    "visitorsAggregated = datesGroups.apply(lambda x: visitors[np.logical_and(visitors['date'] <= x['date'], visitors['group'] == x['group'])].agg({'date' : 'max', 'group' : 'max', 'visitors' : 'sum'}), axis=1).sort_values(by=['date','group']) \n"
   ]
  },
  {
   "cell_type": "code",
   "execution_count": 21,
   "metadata": {},
   "outputs": [],
   "source": [
    "# объединяю данные методом merge\n",
    "\n",
    "cumulativeData = ordersAggregated.merge(visitorsAggregated, left_on=['date', 'group'], right_on=['date', 'group'])\n",
    " "
   ]
  },
  {
   "cell_type": "code",
   "execution_count": 22,
   "metadata": {},
   "outputs": [],
   "source": [
    "# изменяю названия колонок\n",
    "cumulativeData.columns = ['date', 'group', 'orders', 'buyers', 'revenue', 'visitors']\n"
   ]
  },
  {
   "cell_type": "code",
   "execution_count": 23,
   "metadata": {
    "scrolled": true
   },
   "outputs": [
    {
     "data": {
      "text/html": [
       "<div>\n",
       "<style scoped>\n",
       "    .dataframe tbody tr th:only-of-type {\n",
       "        vertical-align: middle;\n",
       "    }\n",
       "\n",
       "    .dataframe tbody tr th {\n",
       "        vertical-align: top;\n",
       "    }\n",
       "\n",
       "    .dataframe thead th {\n",
       "        text-align: right;\n",
       "    }\n",
       "</style>\n",
       "<table border=\"1\" class=\"dataframe\">\n",
       "  <thead>\n",
       "    <tr style=\"text-align: right;\">\n",
       "      <th></th>\n",
       "      <th>date</th>\n",
       "      <th>group</th>\n",
       "      <th>orders</th>\n",
       "      <th>buyers</th>\n",
       "      <th>revenue</th>\n",
       "      <th>visitors</th>\n",
       "    </tr>\n",
       "  </thead>\n",
       "  <tbody>\n",
       "    <tr>\n",
       "      <th>0</th>\n",
       "      <td>2019-08-01</td>\n",
       "      <td>A</td>\n",
       "      <td>24</td>\n",
       "      <td>20</td>\n",
       "      <td>148579</td>\n",
       "      <td>719</td>\n",
       "    </tr>\n",
       "    <tr>\n",
       "      <th>1</th>\n",
       "      <td>2019-08-01</td>\n",
       "      <td>B</td>\n",
       "      <td>21</td>\n",
       "      <td>20</td>\n",
       "      <td>101217</td>\n",
       "      <td>713</td>\n",
       "    </tr>\n",
       "    <tr>\n",
       "      <th>2</th>\n",
       "      <td>2019-08-02</td>\n",
       "      <td>A</td>\n",
       "      <td>44</td>\n",
       "      <td>38</td>\n",
       "      <td>242401</td>\n",
       "      <td>1338</td>\n",
       "    </tr>\n",
       "    <tr>\n",
       "      <th>3</th>\n",
       "      <td>2019-08-02</td>\n",
       "      <td>B</td>\n",
       "      <td>45</td>\n",
       "      <td>43</td>\n",
       "      <td>266748</td>\n",
       "      <td>1294</td>\n",
       "    </tr>\n",
       "    <tr>\n",
       "      <th>4</th>\n",
       "      <td>2019-08-03</td>\n",
       "      <td>A</td>\n",
       "      <td>68</td>\n",
       "      <td>62</td>\n",
       "      <td>354874</td>\n",
       "      <td>1845</td>\n",
       "    </tr>\n",
       "  </tbody>\n",
       "</table>\n",
       "</div>"
      ],
      "text/plain": [
       "        date group  orders  buyers  revenue  visitors\n",
       "0 2019-08-01     A      24      20   148579       719\n",
       "1 2019-08-01     B      21      20   101217       713\n",
       "2 2019-08-02     A      44      38   242401      1338\n",
       "3 2019-08-02     B      45      43   266748      1294\n",
       "4 2019-08-03     A      68      62   354874      1845"
      ]
     },
     "execution_count": 23,
     "metadata": {},
     "output_type": "execute_result"
    }
   ],
   "source": [
    "cumulativeData.head(5)"
   ]
  },
  {
   "cell_type": "code",
   "execution_count": 24,
   "metadata": {},
   "outputs": [],
   "source": [
    "# кум выручка по группе А\n",
    "\n",
    "cumulativeRevenueA  = cumulativeData[cumulativeData['group']=='A'][['date','orders', 'revenue']]"
   ]
  },
  {
   "cell_type": "code",
   "execution_count": 25,
   "metadata": {},
   "outputs": [],
   "source": [
    "\n",
    "# кум выручка по группе В\n",
    "cumulativeRevenueB = cumulativeData[cumulativeData['group']=='B'][['date','orders', 'revenue']]"
   ]
  },
  {
   "cell_type": "markdown",
   "metadata": {},
   "source": [
    "<div class=\"alert alert-info\"> проверка на пересечения</div>\n"
   ]
  },
  {
   "cell_type": "code",
   "execution_count": 41,
   "metadata": {},
   "outputs": [],
   "source": [
    "freqUsers=orders.groupby('visitorId', as_index=False)[['group']].nunique().sort_values(by='group',ascending=False).query('group>1')"
   ]
  },
  {
   "cell_type": "code",
   "execution_count": 42,
   "metadata": {
    "scrolled": false
   },
   "outputs": [
    {
     "data": {
      "text/plain": [
       "58"
      ]
     },
     "execution_count": 42,
     "metadata": {},
     "output_type": "execute_result"
    }
   ],
   "source": [
    "len(freqUsers)"
   ]
  },
  {
   "cell_type": "markdown",
   "metadata": {},
   "source": [
    "Далее я создаю таблицу с теми пользователями, которые имеют только одну группу 9не входят в число пользователей с двумя группами)."
   ]
  },
  {
   "cell_type": "code",
   "execution_count": 43,
   "metadata": {},
   "outputs": [],
   "source": [
    "clearedOrders=orders[\n",
    "            np.logical_not(orders['visitorId'].isin(freqUsers['visitorId']))\n",
    "        ]"
   ]
  },
  {
   "cell_type": "markdown",
   "metadata": {},
   "source": [
    "Проверка на пересечения"
   ]
  },
  {
   "cell_type": "code",
   "execution_count": 45,
   "metadata": {},
   "outputs": [],
   "source": [
    "check = pd.merge(freqUsers, clearedOrders, how='inner', on=['visitorId'])\n"
   ]
  },
  {
   "cell_type": "code",
   "execution_count": 46,
   "metadata": {},
   "outputs": [
    {
     "data": {
      "text/html": [
       "<div>\n",
       "<style scoped>\n",
       "    .dataframe tbody tr th:only-of-type {\n",
       "        vertical-align: middle;\n",
       "    }\n",
       "\n",
       "    .dataframe tbody tr th {\n",
       "        vertical-align: top;\n",
       "    }\n",
       "\n",
       "    .dataframe thead th {\n",
       "        text-align: right;\n",
       "    }\n",
       "</style>\n",
       "<table border=\"1\" class=\"dataframe\">\n",
       "  <thead>\n",
       "    <tr style=\"text-align: right;\">\n",
       "      <th></th>\n",
       "      <th>visitorId</th>\n",
       "      <th>group_x</th>\n",
       "      <th>transactionId</th>\n",
       "      <th>date</th>\n",
       "      <th>revenue</th>\n",
       "      <th>group_y</th>\n",
       "    </tr>\n",
       "  </thead>\n",
       "  <tbody>\n",
       "  </tbody>\n",
       "</table>\n",
       "</div>"
      ],
      "text/plain": [
       "Empty DataFrame\n",
       "Columns: [visitorId, group_x, transactionId, date, revenue, group_y]\n",
       "Index: []"
      ]
     },
     "execution_count": 46,
     "metadata": {},
     "output_type": "execute_result"
    }
   ],
   "source": [
    "check"
   ]
  },
  {
   "cell_type": "markdown",
   "metadata": {},
   "source": [
    " **График кумуллятивной выручки по группам**"
   ]
  },
  {
   "cell_type": "code",
   "execution_count": 31,
   "metadata": {},
   "outputs": [
    {
     "data": {
      "text/plain": [
       "Text(0.5, 0, 'Дата')"
      ]
     },
     "execution_count": 31,
     "metadata": {},
     "output_type": "execute_result"
    },
    {
     "data": {
      "image/png": "[encoded data removed]",
      "text/plain": [
       "<Figure size 432x288 with 1 Axes>"
      ]
     },
     "metadata": {
      "needs_background": "light"
     },
     "output_type": "display_data"
    }
   ],
   "source": [
    "plt.plot(cumulativeRevenueA['date'], cumulativeRevenueA['revenue'], label='A')\n",
    "plt.plot(cumulativeRevenueB['date'], cumulativeRevenueB['revenue'], label='B')\n",
    "plt.legend() \n",
    "plt.xticks(rotation=90)\n",
    "plt.title('График кумуллятивной выручки по группам')\n",
    "plt.ylabel(\"Выручка\")\n",
    "plt.xlabel(\"Дата\")"
   ]
  },
  {
   "cell_type": "markdown",
   "metadata": {},
   "source": [
    "**Вывод** - \n",
    "\n",
    "график демострирует, что показатели кумулятивной выручки группы В превышают группу А и выручка изо дня в день обеих групп растет.\n",
    "\n",
    "18-19.08 произошел довольно крупный заказ в группе В и кумулятивная выручка сильно подскочила.\n",
    "\n",
    "в целом, графики показывают одниковый тренд и угол наклона прямых (за исключением дня, когда был оформлен крупный заказ). После данного заказа прямые остались параллельными."
   ]
  },
  {
   "cell_type": "markdown",
   "metadata": {},
   "source": [
    " **График кумуллятивного среднего чека по группам**"
   ]
  },
  {
   "cell_type": "markdown",
   "metadata": {},
   "source": [
    "Теперь можно построить графики кумулятивного среднего чека по группам."
   ]
  },
  {
   "cell_type": "code",
   "execution_count": 32,
   "metadata": {},
   "outputs": [
    {
     "data": {
      "text/plain": [
       "Text(0.5, 0, 'Дата')"
      ]
     },
     "execution_count": 32,
     "metadata": {},
     "output_type": "execute_result"
    },
    {
     "data": {
      "image/png": "[encoded data removed]",
      "text/plain": [
       "<Figure size 432x288 with 1 Axes>"
      ]
     },
     "metadata": {
      "needs_background": "light"
     },
     "output_type": "display_data"
    }
   ],
   "source": [
    "plt.plot(cumulativeRevenueA['date'], cumulativeRevenueA['revenue']/cumulativeRevenueA['orders'], label='A')\n",
    "plt.plot(cumulativeRevenueB['date'], cumulativeRevenueB['revenue']/cumulativeRevenueB['orders'], label='B')\n",
    "plt.legend() \n",
    "plt.xticks(rotation=45)\n",
    "plt.title('График кумуллятивного среднего чека по группам')\n",
    "plt.ylabel(\"Средний чек\")\n",
    "plt.xlabel(\"Дата\")"
   ]
  },
  {
   "cell_type": "markdown",
   "metadata": {},
   "source": [
    "**Выводы**\n",
    "\n",
    "таким образом, в группе А первые 6 дней снижался, затем стал расти, своего пика достиг 13.08. ЗАтем немного снизился и к концу теста достиг прежнего пикового уровня.\n",
    "\n",
    "в группе В же средний чек в целом с начала теста вырос почти в 2 раза, Вероятно, это произошло из за крупного заказа 18-19 августа, что сильно увеличило значение среднего чека по группе. \n",
    "\n",
    "После крупной покупки значение стало уменьшаться\n",
    "\n",
    "к концу теста значение среднего чека группы В больше группы А на 2 тр\n",
    "\n",
    "Но делать какие либо определенные выводы нельзя. тк как видно явное влияение крупного заказа на данные\n"
   ]
  },
  {
   "cell_type": "markdown",
   "metadata": {},
   "source": [
    "**График относительного изменения кумулятивного среднего чека группы B к группе A.**"
   ]
  },
  {
   "cell_type": "code",
   "execution_count": 33,
   "metadata": {},
   "outputs": [
    {
     "data": {
      "text/plain": [
       "Text(0.5, 0, 'Дата')"
      ]
     },
     "execution_count": 33,
     "metadata": {},
     "output_type": "execute_result"
    },
    {
     "data": {
      "image/png": "[encoded data removed]",
      "text/plain": [
       "<Figure size 432x288 with 1 Axes>"
      ]
     },
     "metadata": {
      "needs_background": "light"
     },
     "output_type": "display_data"
    }
   ],
   "source": [
    "mergedCumulativeRevenue = cumulativeRevenueA.merge(cumulativeRevenueB, left_on='date', right_on='date', how='left', suffixes=['A', 'B'])\n",
    "\n",
    "#  отношение средних чеков\n",
    "plt.plot(mergedCumulativeRevenue['date'], (mergedCumulativeRevenue['revenueB']/mergedCumulativeRevenue['ordersB'])/(mergedCumulativeRevenue['revenueA']/mergedCumulativeRevenue['ordersA'])-1)\n",
    "\n",
    "# добавляю ось X\n",
    "plt.axhline(y=0, color='black', linestyle='--') \n",
    "plt.xticks(rotation=45)\n",
    "plt.title('График относительного изменения кумулятивного среднего чека группы B к группе A.')\n",
    "plt.xlabel(\"Дата\")"
   ]
  },
  {
   "cell_type": "markdown",
   "metadata": {},
   "source": [
    "**Выводы**\n",
    "\n",
    " в целом, на протяжении всего теста относительное различие для среднего чека у группы В было больше, чем у группы А, за исключением провала в конце второй недели теста. \n",
    " \n",
    " после 18 августа произошел резкий рост относительной разницы между ср. чеками, опять же - это произошло из-за выброса (очень крупного заказа)\n",
    " \n",
    " после чего относиельное различие между чеками стало сокращаться."
   ]
  },
  {
   "cell_type": "markdown",
   "metadata": {},
   "source": [
    "**График кумулятивного среднего количества заказов на посетителя по группам (конверсия)**"
   ]
  },
  {
   "cell_type": "code",
   "execution_count": 34,
   "metadata": {
    "scrolled": true
   },
   "outputs": [
    {
     "data": {
      "text/plain": [
       "Text(0.5, 0, 'Дата')"
      ]
     },
     "execution_count": 34,
     "metadata": {},
     "output_type": "execute_result"
    },
    {
     "data": {
      "image/png": "[encoded data removed]",
      "text/plain": [
       "<Figure size 432x288 with 1 Axes>"
      ]
     },
     "metadata": {
      "needs_background": "light"
     },
     "output_type": "display_data"
    }
   ],
   "source": [
    "# расчет кум. конверсии\n",
    "cumulativeData['conversion'] = cumulativeData['orders']/cumulativeData['visitors']\n",
    "\n",
    "# данные по группе А\n",
    "cumulativeDataA = cumulativeData[cumulativeData['group']=='A']\n",
    "\n",
    "# по группе B\n",
    "cumulativeDataB = cumulativeData[cumulativeData['group']=='B']\n",
    "\n",
    "#  графики\n",
    "plt.plot(cumulativeDataA['date'], cumulativeDataA['conversion'], label='A')\n",
    "plt.plot(cumulativeDataB['date'], cumulativeDataB['conversion'], label='B')\n",
    "plt.legend()\n",
    "plt.xticks(rotation=45)\n",
    "plt.title('График кумулятивного среднего количества заказов на посетителя по группам')\n",
    "plt.ylabel(\"Заказов на посетителя\")\n",
    "plt.xlabel(\"Дата\")\n"
   ]
  },
  {
   "cell_type": "markdown",
   "metadata": {},
   "source": [
    "**Выводы**\n",
    "\n",
    "после недели теста конверсия группы В стала стабильно выше группы А, причем разница существенная. \n",
    "\n",
    "стоит отметить, что конверсии обеих групп имеют колебания \n",
    "\n",
    "кумулятивная коверсия к концу теста для группы В составила 0,034 , а для группы А - 0,03\n",
    "\n",
    "Это может предварительно служит признаком успешности проведения теста."
   ]
  },
  {
   "cell_type": "markdown",
   "metadata": {},
   "source": [
    "**График относительного изменения кумулятивного среднего количества заказов на посетителя группы B к группе A.**"
   ]
  },
  {
   "cell_type": "code",
   "execution_count": 35,
   "metadata": {},
   "outputs": [
    {
     "data": {
      "text/plain": [
       "Text(0.5, 0, 'Дата')"
      ]
     },
     "execution_count": 35,
     "metadata": {},
     "output_type": "execute_result"
    },
    {
     "data": {
      "image/png": "[encoded data removed]",
      "text/plain": [
       "<Figure size 432x288 with 1 Axes>"
      ]
     },
     "metadata": {
      "needs_background": "light"
     },
     "output_type": "display_data"
    }
   ],
   "source": [
    "# объединяю данные по конверсии двух групп\n",
    "\n",
    "mergedCumulativeConversions = cumulativeDataA[['date','conversion']].merge(cumulativeDataB[['date','conversion']], left_on='date', right_on='date', how='left', suffixes=['A', 'B'])\n",
    "\n",
    "plt.plot(mergedCumulativeConversions['date'], mergedCumulativeConversions['conversionB']/mergedCumulativeConversions['conversionA']-1, label=\"Относительный прирост конверсии группы B относительно группы A\")\n",
    "plt.legend(loc=\"upper left\")\n",
    "\n",
    "plt.axhline(y=0, color='black', linestyle='--')\n",
    "plt.xticks(rotation=45)\n",
    "\n",
    "plt.title('График относительного изменения кумулятивного среднего количества заказов на посетителя группы B к группе A.')\n",
    "\n",
    "plt.xlabel(\"Дата\")"
   ]
  },
  {
   "cell_type": "markdown",
   "metadata": {},
   "source": [
    "**Выводы**\n",
    "\n",
    "после первой недели теста группа В по показателям конверсии стабильно стала обгонять группу А. До 17 августа разница в относительном приросте конверсии группы В относительно г.А только увеличивалась.\n",
    "\n",
    "После разница стала сокращаться, но к концу тест конверсия группы В осталась выше группы А на 15%\n",
    "\n",
    "ТАкже сильное изменение в показателях стали наблюдаться в период с 3 августа по 10 августа. Данный период теста сильно повлиял на данные.\n"
   ]
  },
  {
   "cell_type": "markdown",
   "metadata": {},
   "source": [
    "**точечный график количества заказов по пользователям**"
   ]
  },
  {
   "cell_type": "code",
   "execution_count": 36,
   "metadata": {},
   "outputs": [],
   "source": [
    "# таблицы с заказами на пользователя методом groupby\n",
    "\n",
    "ordersByUsers = orders.groupby('visitorId', as_index=False)['transactionId'].count()\n",
    "\n",
    "ordersByUsers.columns=['visitorId', 'orders']"
   ]
  },
  {
   "cell_type": "code",
   "execution_count": 37,
   "metadata": {},
   "outputs": [
    {
     "data": {
      "text/plain": [
       "Text(0, 0.5, 'Заказов на пользователя')"
      ]
     },
     "execution_count": 37,
     "metadata": {},
     "output_type": "execute_result"
    },
    {
     "data": {
      "image/png": "[encoded data removed]",
      "text/plain": [
       "<Figure size 432x288 with 1 Axes>"
      ]
     },
     "metadata": {
      "needs_background": "light"
     },
     "output_type": "display_data"
    }
   ],
   "source": [
    "# график\n",
    "plt.scatter(pd.Series(range(0,len(ordersByUsers))), ordersByUsers['orders'])\n",
    "plt.title('Точечный график количества заказов по пользователям')\n",
    "plt.ylabel(\"Заказов на пользователя\")\n"
   ]
  },
  {
   "cell_type": "markdown",
   "metadata": {},
   "source": [
    "По графику видно, что большиноство пользователей совершило 1-2 заказа. Пользователей, совершивших 3 и более заказов не так много."
   ]
  },
  {
   "cell_type": "markdown",
   "metadata": {},
   "source": [
    "**95-й и 99-й перцентили количества заказов на пользователя**"
   ]
  },
  {
   "cell_type": "code",
   "execution_count": 38,
   "metadata": {
    "scrolled": true
   },
   "outputs": [
    {
     "data": {
      "text/plain": [
       "array([2., 4.])"
      ]
     },
     "execution_count": 38,
     "metadata": {},
     "output_type": "execute_result"
    }
   ],
   "source": [
    "np.percentile(ordersByUsers['orders'], [95, 99])\n"
   ]
  },
  {
   "cell_type": "markdown",
   "metadata": {},
   "source": [
    "Таким образом, 95% пользователей совершило не более 2 заказов, а 99% пользователей совершило не более 4 заказов.\n",
    "\n",
    "ПОлучается всего около 4% пользователей совершили 3-4 заказа.\n",
    "\n",
    "За верхнюю границу числа заказов буду считать 2 заказа."
   ]
  },
  {
   "cell_type": "markdown",
   "metadata": {},
   "source": [
    "**точечный график стоимостей заказов.**"
   ]
  },
  {
   "cell_type": "code",
   "execution_count": 39,
   "metadata": {},
   "outputs": [
    {
     "data": {
      "text/plain": [
       "Text(0, 0.5, 'Стоимость заказа, млн')"
      ]
     },
     "execution_count": 39,
     "metadata": {},
     "output_type": "execute_result"
    },
    {
     "data": {
      "image/png": "[encoded data removed]",
      "text/plain": [
       "<Figure size 432x288 with 1 Axes>"
      ]
     },
     "metadata": {
      "needs_background": "light"
     },
     "output_type": "display_data"
    }
   ],
   "source": [
    "# график\n",
    "plt.scatter(pd.Series(range(0,len(orders['revenue']))), orders['revenue']) \n",
    "plt.title('Точечный график стоимостей заказов')\n",
    "plt.ylabel(\"Стоимость заказа, млн\")"
   ]
  },
  {
   "cell_type": "markdown",
   "metadata": {},
   "source": [
    "Из графика видно, что есть два выброса - заказы стоимостью 200 тр, и более 1,2 млн. За границу аномальных заказов можно взять метку от 150 тр."
   ]
  },
  {
   "cell_type": "markdown",
   "metadata": {},
   "source": [
    "**95-й и 99-й перцентили стоимости заказов**"
   ]
  },
  {
   "cell_type": "code",
   "execution_count": 40,
   "metadata": {},
   "outputs": [
    {
     "data": {
      "text/plain": [
       "array([28000. , 58233.2])"
      ]
     },
     "execution_count": 40,
     "metadata": {},
     "output_type": "execute_result"
    }
   ],
   "source": [
    "np.percentile(orders['revenue'], [95, 99])\n"
   ]
  },
  {
   "cell_type": "markdown",
   "metadata": {},
   "source": [
    "95% заказов стоимостью до 28 тр, 99% заказов стоимостью до 58,2 тр\n",
    "\n",
    "Верхнюю границу стоимости заказов определим на отметке 30000, таким образом из данных уберется менее 5%"
   ]
  },
  {
   "cell_type": "markdown",
   "metadata": {},
   "source": [
    "**Статистическая значимость различий в среднем количестве заказов на посетителя между группами по «сырым» данным**"
   ]
  },
  {
   "cell_type": "markdown",
   "metadata": {},
   "source": [
    "***Формулировка гипотез***"
   ]
  },
  {
   "cell_type": "markdown",
   "metadata": {},
   "source": [
    "Ho - различий в среднем количестве заказов между группами нет. \n",
    "\n",
    "H1 -  различия в среднем между группами есть."
   ]
  },
  {
   "cell_type": "markdown",
   "metadata": {},
   "source": [
    "Опеределим сколько заказов было на одного пользователя в разных группах\n",
    "\n"
   ]
  },
  {
   "cell_type": "code",
   "execution_count": 41,
   "metadata": {},
   "outputs": [],
   "source": [
    "# группа А\n",
    "ordersByUsersA = orders[orders['group']=='A'].groupby('visitorId', as_index=False)['transactionId'].count()\n",
    "ordersByUsersA.columns = ['visitorId', 'orders']"
   ]
  },
  {
   "cell_type": "code",
   "execution_count": 42,
   "metadata": {},
   "outputs": [],
   "source": [
    "# группа В\n",
    "ordersByUsersB = orders[orders['group']=='B'].groupby('visitorId', as_index=False)['transactionId'].count()\n",
    "ordersByUsersB.columns = ['visitorId', 'orders']"
   ]
  },
  {
   "cell_type": "markdown",
   "metadata": {},
   "source": [
    "Аналогично с посетителями"
   ]
  },
  {
   "cell_type": "code",
   "execution_count": 43,
   "metadata": {},
   "outputs": [],
   "source": [
    "visitorsPerDateA = visitors[visitors['group']=='A'][['date', 'visitors']]\n"
   ]
  },
  {
   "cell_type": "code",
   "execution_count": 44,
   "metadata": {},
   "outputs": [],
   "source": [
    "visitorsPerDateB = visitors[visitors['group']=='B'][['date', 'visitors']]\n"
   ]
  },
  {
   "cell_type": "markdown",
   "metadata": {},
   "source": [
    "Подготовлю выборку к проверки критерием Манна-Уитни.\n",
    "\n",
    "Создам две переменные `sampleA` и `sampleB`, где пользователям, которые что то купили, будет соотвествовать число заказов. А не купившим пользователям - нули."
   ]
  },
  {
   "cell_type": "code",
   "execution_count": 45,
   "metadata": {},
   "outputs": [],
   "source": [
    "sampleA = pd.concat([ordersByUsersA['orders'],pd.Series(0, index=np.arange(visitorsPerDateA['visitors'].sum() - len(ordersByUsersA['orders'])), name='orders')],axis=0)\n",
    "\n",
    "sampleB = pd.concat([ordersByUsersB['orders'],pd.Series(0, index=np.arange(visitorsPerDateB['visitors'].sum() - len(ordersByUsersB['orders'])), name='orders')],axis=0)"
   ]
  },
  {
   "cell_type": "code",
   "execution_count": 46,
   "metadata": {
    "scrolled": true
   },
   "outputs": [
    {
     "name": "stdout",
     "output_type": "stream",
     "text": [
      "p-value:  0.017\n",
      "Относительно изменение числа заказов на пользователя:  0.138\n"
     ]
    }
   ],
   "source": [
    "import scipy.stats as stats\n",
    "\n",
    "print('p-value: ', \"{0:.3f}\".format(stats.mannwhitneyu(sampleA, sampleB)[1]))\n",
    "print('Относительно изменение числа заказов на пользователя: ',  \"{0:.3f}\".format(sampleB.mean() / sampleA.mean() - 1))\n"
   ]
  },
  {
   "cell_type": "markdown",
   "metadata": {},
   "source": [
    "**Вывод**\n",
    "\n",
    "по сырым данным наблюдаются различия  в среднем числе заказов групп A и B\n",
    "\n",
    "p-value = 0.017 меньше 0.05.\n",
    "\n",
    "Значит, нулевую гипотезу о том, что статистически значимых различий в среднем числе заказов между группами нет, вправе отвергнуть.\n",
    "\n",
    "Также стоит отметить, относительный выигрыш группы В составил 13,8% в отношении группы А"
   ]
  },
  {
   "cell_type": "markdown",
   "metadata": {},
   "source": [
    "**Статистическая значимость различий в среднем чеке заказа между группами по «сырым» данным**"
   ]
  },
  {
   "cell_type": "markdown",
   "metadata": {},
   "source": [
    "Нулевая гипотеза: различий в среднем чеке между группами нет. \n",
    "\n",
    "Альтернативная гипотеза: различия в среднем чеке между группами есть. "
   ]
  },
  {
   "cell_type": "code",
   "execution_count": 47,
   "metadata": {},
   "outputs": [
    {
     "name": "stdout",
     "output_type": "stream",
     "text": [
      "p-value:  0.729\n",
      "Относительно изменение среднего чека:  0.259\n"
     ]
    }
   ],
   "source": [
    "print('p-value: ','{0:.3f}'.format(stats.mannwhitneyu(orders[orders['group']=='A']['revenue'], orders[orders['group']=='B']['revenue'])[1]))\n",
    "print('Относительно изменение среднего чека: ','{0:.3f}'.format(orders[orders['group']=='B']['revenue'].mean()/orders[orders['group']=='A']['revenue'].mean()-1))"
   ]
  },
  {
   "cell_type": "markdown",
   "metadata": {},
   "source": [
    "**Выводы**\n",
    "\n",
    "P-value больше 0.05. \n",
    "\n",
    "Оснований отвегнуть нулевую гипотезу и считать, что в среднем чеке есть различия, нет. \n",
    "\n",
    "относительное различие между группами составляет 25,9%\n",
    "\n",
    "Данные противоречат, стоит очистить данные и проанализировать показатели на данных без выбросов"
   ]
  },
  {
   "cell_type": "markdown",
   "metadata": {},
   "source": [
    "До этого за аномальные значения я взял -\n",
    "\n",
    "- стоимость заказов от 30тр\n",
    "- количество заказов на пользователя от 3 и более."
   ]
  },
  {
   "cell_type": "markdown",
   "metadata": {},
   "source": [
    "**Очистка данных**"
   ]
  },
  {
   "cell_type": "code",
   "execution_count": 48,
   "metadata": {},
   "outputs": [
    {
     "name": "stdout",
     "output_type": "stream",
     "text": [
      "1099    148427295\n",
      "18      199603092\n",
      "928     204675465\n",
      "23      237748145\n",
      "37      249864742\n",
      "Name: visitorId, dtype: int64\n",
      "74\n"
     ]
    }
   ],
   "source": [
    "# определяю сколько аномальных пользователей в данных\n",
    "# конкатенирую данные из двух групп с большим кол-вом заказов и большой выручкой.\n",
    "usersWithManyOrders = pd.concat(\n",
    "    [\n",
    "        ordersByUsersA[ordersByUsersA['orders'] > int(np.percentile(ordersByUsers['orders'], [95]))]['visitorId'],\n",
    "        ordersByUsersB[ordersByUsersB['orders'] > int(np.percentile(ordersByUsers['orders'], [95]))]['visitorId'],\n",
    "    ],\n",
    "    axis=0,\n",
    ")\n",
    "usersWithExpensiveOrders = orders[orders['revenue'] > int(np.percentile(orders['revenue'], [95]))]['visitorId']\n",
    "abnormalUsers = (\n",
    "    pd.concat([usersWithManyOrders, usersWithExpensiveOrders], axis=0)\n",
    "    .drop_duplicates()\n",
    "    .sort_values()\n",
    ")\n",
    "print(abnormalUsers.head(5))\n",
    "print(abnormalUsers.shape[0])"
   ]
  },
  {
   "cell_type": "markdown",
   "metadata": {},
   "source": [
    "Таким образом, из всех данных всего 74 пользователей - аномальные. Это составляет меньше 1% из всех пользователей двух групп"
   ]
  },
  {
   "cell_type": "code",
   "execution_count": 49,
   "metadata": {},
   "outputs": [
    {
     "name": "stdout",
     "output_type": "stream",
     "text": [
      "0.2\n"
     ]
    }
   ],
   "source": [
    "print(round(74/len(pd.concat([sampleA, sampleB], axis=0))*100,2))"
   ]
  },
  {
   "cell_type": "markdown",
   "metadata": {},
   "source": [
    "**Посчитаем статистическую значимость различий в среднем количестве заказов между группами теста по очищенным данным**"
   ]
  },
  {
   "cell_type": "markdown",
   "metadata": {},
   "source": [
    "<div class=\"alert alert-info\"> Напомню гипотезы\n",
    "\n",
    "Ho - различий в среднем количестве заказов между группами по очищенным данным нет. \n",
    "\n",
    "H1 -  различия в среднем между группами по очищенным данным  есть.</div>\n",
    "\n",
    "\n"
   ]
  },
  {
   "cell_type": "code",
   "execution_count": 50,
   "metadata": {},
   "outputs": [],
   "source": [
    "# стат значимость по филттрованным данным, \n",
    "#исключаю тех пользователей, чей ID в аномальных данных \n",
    "\n",
    "sampleAFiltered = pd.concat(\n",
    "    [\n",
    "        ordersByUsersA[\n",
    "            np.logical_not(ordersByUsersA['visitorId'].isin(abnormalUsers))\n",
    "        ]['orders'],\n",
    "        pd.Series(\n",
    "            0,\n",
    "            index=np.arange(\n",
    "                visitorsPerDateA['visitors'].sum() - len(ordersByUsersA['orders'])\n",
    "            ),\n",
    "            name='orders',\n",
    "        ),\n",
    "    ],\n",
    "    axis=0,\n",
    ")\n",
    "\n",
    "sampleBFiltered = pd.concat(\n",
    "    [\n",
    "        ordersByUsersB[\n",
    "            np.logical_not(ordersByUsersB['visitorId'].isin(abnormalUsers))\n",
    "        ]['orders'],\n",
    "        pd.Series(\n",
    "            0,\n",
    "            index=np.arange(\n",
    "                visitorsPerDateA['visitors'].sum() - len(ordersByUsersB['orders'])\n",
    "            ),\n",
    "            name='orders',\n",
    "        ),\n",
    "    ],\n",
    "    axis=0,\n",
    ")"
   ]
  },
  {
   "cell_type": "code",
   "execution_count": 51,
   "metadata": {},
   "outputs": [
    {
     "name": "stdout",
     "output_type": "stream",
     "text": [
      "p-value:  0.008\n",
      "Относительно изменение числа заказов на пользователя:  0.184\n"
     ]
    }
   ],
   "source": [
    "print('p-value: ','{0:.3f}'.format(stats.mannwhitneyu(sampleAFiltered, sampleBFiltered)[1]))\n",
    "print('Относительно изменение числа заказов на пользователя: ','{0:.3f}'.format(sampleBFiltered.mean()/sampleAFiltered.mean()-1))"
   ]
  },
  {
   "cell_type": "markdown",
   "metadata": {},
   "source": [
    "Вывод остается тот же, что и на сырых данных. Есть различия между средним числом заказов на пользователя в двух группах.\n",
    "\n",
    "Также относительный прирост увеличился (было 13,8%, стало 18,3%)"
   ]
  },
  {
   "cell_type": "markdown",
   "metadata": {},
   "source": [
    "**статистическая значимость различий в среднем чеке заказа между группами по «очищенным» данным**"
   ]
  },
  {
   "cell_type": "markdown",
   "metadata": {},
   "source": [
    "<div class=\"alert alert-info\">Напомню гипотезы\n",
    "\n",
    "Нулевая гипотеза: различий в среднем чеке между группами по очищенным данным  нет.\n",
    "\n",
    "Альтернативная гипотеза: различия в среднем чеке между группами по очищенным данным  есть.</div>"
   ]
  },
  {
   "cell_type": "code",
   "execution_count": 52,
   "metadata": {
    "scrolled": true
   },
   "outputs": [
    {
     "name": "stdout",
     "output_type": "stream",
     "text": [
      "p-value:  0.738\n",
      "Относительно изменение среднего чека:  -0.020\n"
     ]
    }
   ],
   "source": [
    "print('p-value: ',\n",
    "    '{0:.3f}'.format(\n",
    "        stats.mannwhitneyu(\n",
    "            orders[\n",
    "                np.logical_and(\n",
    "                    orders['group'] == 'A',\n",
    "                    np.logical_not(orders['visitorId'].isin(abnormalUsers)),\n",
    "                )\n",
    "            ]['revenue'],\n",
    "            orders[\n",
    "                np.logical_and(\n",
    "                    orders['group'] == 'B',\n",
    "                    np.logical_not(orders['visitorId'].isin(abnormalUsers)),\n",
    "                )\n",
    "            ]['revenue'],\n",
    "        )[1]\n",
    "    )\n",
    ")\n",
    "\n",
    "print('Относительно изменение среднего чека: ',\n",
    "    \"{0:.3f}\".format(\n",
    "        orders[\n",
    "            np.logical_and(\n",
    "                orders['group'] == 'B',\n",
    "                np.logical_not(orders['visitorId'].isin(abnormalUsers)),\n",
    "            )\n",
    "        ]['revenue'].mean()\n",
    "        / orders[\n",
    "            np.logical_and(\n",
    "                orders['group'] == 'A',\n",
    "                np.logical_not(orders['visitorId'].isin(abnormalUsers)),\n",
    "            )\n",
    "        ]['revenue'].mean()\n",
    "        - 1\n",
    "    )\n",
    ")"
   ]
  },
  {
   "cell_type": "markdown",
   "metadata": {},
   "source": [
    "P-value почти не изменился, а вот разница в среднем чеке стала практически отсутствовать (напомню, на сырых данных, разница в среднем чеке составляла 25% в пользу группы В).\n",
    "\n",
    "Теперь же она практически отсуствует (чуть меньше чем в группе А)\n",
    "\n",
    "ТАким образом, нулевую гипотезу (различий в среднем чеке между группами нет) относительно среднего чека отвегнуть не можем"
   ]
  },
  {
   "cell_type": "markdown",
   "metadata": {},
   "source": [
    "<div class=\"alert alert-info\">Таким образом, теперь по очищенным данным противоречий не наблюдается. \n",
    "    \n",
    "P-value > alpha, что <b>не позволяет отвергнуть</b> нулевую гипотезу о том, что различий в среднем чеке между группами по очищенным данным нет.\n",
    "    \n",
    "Это подтверждает и относильное отличие средних чеков по очищенным данным.\n",
    "</div>"
   ]
  },
  {
   "cell_type": "markdown",
   "metadata": {},
   "source": [
    "**Обобщение выводов относительно теста**\n",
    "\n",
    "- и по сырым и по очищенным данным есть статистически значимое различие между средним числом заказов на одного пользователя между группами\n",
    "\n",
    "- по сырым данным анализ показал, что статистически значимое различие между средним чеком двух групп отсутсвует. Однако относительный прирост по сырым данным показал значение +25% у группы В относительно группы А по среднему чеку. По очищенным данным данное противоречие ликвидировалось - изменение среднего чека минимально.\n",
    "\n",
    "\n",
    "то есть в целом каждый пользователь начал совершать больше заказов, но стал покупать более дешевые вещи.\n",
    "\n"
   ]
  },
  {
   "cell_type": "markdown",
   "metadata": {},
   "source": [
    "**Вывод**\n",
    "\n",
    "цель тестирования была увеличить выручку.\n",
    "Данная цель успешно достигнута. ПОльзователи группы В принесли компании на 1,9 млн больше группы А.\n",
    "\n",
    "Хотя стоит помнить, что в группу B попали 2 аномальных заказа (200 т у.е. и 1,2 млн).\n",
    "\n",
    "Таким образом, если не считать их, то выручка группы В больше на 33 т у.е. группы А. \n",
    "\n",
    "В целом, увеличение выручки произошло на 8%\n",
    "\n",
    "Такой важный показатель, как средний чек по результатам тестирования не изменился, однако изменения привлекли большее количество покупателей, что показывают графики конверсии.\n",
    "\n",
    "Оснований считать тест провальным не вижу, так как основная цель - увеличение выручки - достигнута. Тест можно закончить и приступить к тестированию новых разработок.\n",
    "\n"
   ]
  },
  {
   "cell_type": "code",
   "execution_count": 53,
   "metadata": {},
   "outputs": [
    {
     "name": "stdout",
     "output_type": "stream",
     "text": [
      "Выручка в группе А: 4084803\n"
     ]
    }
   ],
   "source": [
    "print('Выручка в группе А:', orders.query('group ==\"A\" &  revenue < 200000')['revenue'].sum())"
   ]
  },
  {
   "cell_type": "code",
   "execution_count": 54,
   "metadata": {
    "scrolled": true
   },
   "outputs": [
    {
     "name": "stdout",
     "output_type": "stream",
     "text": [
      "Выручка в группе B: 4410520\n"
     ]
    }
   ],
   "source": [
    "print('Выручка в группе B:',orders.query('group ==\"B\" &  revenue < 200000')['revenue'].sum())"
   ]
  },
  {
   "cell_type": "code",
   "execution_count": 55,
   "metadata": {},
   "outputs": [
    {
     "name": "stdout",
     "output_type": "stream",
     "text": [
      "Темп прироста выручки: 7.97\n"
     ]
    }
   ],
   "source": [
    "print('Темп прироста выручки:', round(orders.query('group ==\"B\" &  revenue < 200000')['revenue'].sum()/orders.query('group ==\"A\" &  revenue < 200000')['revenue'].sum()*100-100,2))"
   ]
  },
  {
   "cell_type": "markdown",
   "metadata": {},
   "source": [
    "# Заключение"
   ]
  },
  {
   "cell_type": "markdown",
   "metadata": {},
   "source": [
    "Таким образом, в ходе исследования были приоретизированы выдвинутые гипотезы.\n",
    "\n",
    "Был проведен анализ А/В теста, сделаны выводы и рекомендации относительно его продолжения/завершения.\n",
    "\n",
    "Тест считаю успешным.\n",
    "\n"
   ]
  },
  {
   "cell_type": "markdown",
   "metadata": {},
   "source": [
    "*единственное, я не понял, каких из гипотез тестировалась, чтобы сделать вывод относительно нее..*\n",
    "\n",
    "*были выдвинуты гипотезы, поставили им приоритеты - то  есть вырали какая важнее и какую будем тестировать.*\n",
    "\n",
    "Я предположил, что самая опитимальная - это гипотеза 7 (Добавить форму подписки на все основные страницы, чтобы собрать базу клиентов для email-рассылок), так как она находится в двух рейтингах и охватывает большее число клиентов.\n",
    "\n",
    "если считать, что тестировали ее, то в целом складывается, что эти рассылки и позволили увеличить число заказов на пользователя."
   ]
  }
 ],
 "metadata": {
  "ExecuteTimeLog": [
   {
    "duration": 374,
    "start_time": "2023-05-20T13:57:16.886Z"
   },
   {
    "duration": 78,
    "start_time": "2023-05-20T13:57:47.276Z"
   },
   {
    "duration": 28,
    "start_time": "2023-05-20T13:57:51.584Z"
   },
   {
    "duration": 14,
    "start_time": "2023-05-20T13:57:58.168Z"
   },
   {
    "duration": 37,
    "start_time": "2023-05-20T13:59:24.598Z"
   },
   {
    "duration": 3,
    "start_time": "2023-05-20T14:06:13.018Z"
   },
   {
    "duration": 2,
    "start_time": "2023-05-20T14:06:16.697Z"
   },
   {
    "duration": 50,
    "start_time": "2023-05-20T14:06:16.701Z"
   },
   {
    "duration": 8,
    "start_time": "2023-05-20T14:06:16.753Z"
   },
   {
    "duration": 17,
    "start_time": "2023-05-20T14:06:16.763Z"
   },
   {
    "duration": 2,
    "start_time": "2023-05-20T14:06:19.405Z"
   },
   {
    "duration": 16,
    "start_time": "2023-05-20T14:06:32.822Z"
   },
   {
    "duration": 9,
    "start_time": "2023-05-20T14:06:35.989Z"
   },
   {
    "duration": 5,
    "start_time": "2023-05-20T14:07:08.100Z"
   },
   {
    "duration": 8,
    "start_time": "2023-05-20T14:07:08.494Z"
   },
   {
    "duration": 77,
    "start_time": "2023-05-20T14:08:09.115Z"
   },
   {
    "duration": 44,
    "start_time": "2023-05-20T14:09:17.567Z"
   },
   {
    "duration": 5,
    "start_time": "2023-05-20T14:09:19.692Z"
   },
   {
    "duration": 7,
    "start_time": "2023-05-20T14:09:23.585Z"
   },
   {
    "duration": 18,
    "start_time": "2023-05-20T14:09:51.022Z"
   },
   {
    "duration": 402,
    "start_time": "2023-05-20T14:11:41.937Z"
   },
   {
    "duration": 29,
    "start_time": "2023-05-20T14:11:42.342Z"
   },
   {
    "duration": 15,
    "start_time": "2023-05-20T14:11:42.372Z"
   },
   {
    "duration": 3,
    "start_time": "2023-05-20T14:11:42.389Z"
   },
   {
    "duration": 5,
    "start_time": "2023-05-20T14:11:42.394Z"
   },
   {
    "duration": 4,
    "start_time": "2023-05-20T14:11:42.401Z"
   },
   {
    "duration": 9,
    "start_time": "2023-05-20T14:11:42.406Z"
   },
   {
    "duration": 9,
    "start_time": "2023-05-20T14:11:51.169Z"
   },
   {
    "duration": 5,
    "start_time": "2023-05-20T14:11:54.698Z"
   },
   {
    "duration": 4,
    "start_time": "2023-05-20T14:12:04.898Z"
   },
   {
    "duration": 417,
    "start_time": "2023-05-20T14:12:20.966Z"
   },
   {
    "duration": 29,
    "start_time": "2023-05-20T14:12:21.386Z"
   },
   {
    "duration": 23,
    "start_time": "2023-05-20T14:12:21.417Z"
   },
   {
    "duration": 8,
    "start_time": "2023-05-20T14:12:21.442Z"
   },
   {
    "duration": 10,
    "start_time": "2023-05-20T14:12:21.452Z"
   },
   {
    "duration": 7,
    "start_time": "2023-05-20T14:12:21.463Z"
   },
   {
    "duration": 28,
    "start_time": "2023-05-20T14:12:21.472Z"
   },
   {
    "duration": 4,
    "start_time": "2023-05-20T14:12:23.569Z"
   },
   {
    "duration": 4,
    "start_time": "2023-05-20T14:12:25.711Z"
   },
   {
    "duration": 13,
    "start_time": "2023-05-20T14:12:29.328Z"
   },
   {
    "duration": 140,
    "start_time": "2023-05-20T14:32:34.022Z"
   },
   {
    "duration": 8,
    "start_time": "2023-05-20T14:32:48.915Z"
   },
   {
    "duration": 11,
    "start_time": "2023-05-20T14:33:08.981Z"
   },
   {
    "duration": 7,
    "start_time": "2023-05-20T14:34:32.416Z"
   },
   {
    "duration": 13,
    "start_time": "2023-05-20T14:35:01.285Z"
   },
   {
    "duration": 20,
    "start_time": "2023-05-20T14:35:17.900Z"
   },
   {
    "duration": 3,
    "start_time": "2023-05-20T14:35:30.973Z"
   },
   {
    "duration": 62,
    "start_time": "2023-05-20T14:35:30.978Z"
   },
   {
    "duration": 16,
    "start_time": "2023-05-20T14:35:31.041Z"
   },
   {
    "duration": 31,
    "start_time": "2023-05-20T14:35:31.058Z"
   },
   {
    "duration": 21,
    "start_time": "2023-05-20T14:35:31.091Z"
   },
   {
    "duration": 30,
    "start_time": "2023-05-20T14:35:31.113Z"
   },
   {
    "duration": 32,
    "start_time": "2023-05-20T14:35:31.145Z"
   },
   {
    "duration": 21,
    "start_time": "2023-05-20T14:35:31.178Z"
   },
   {
    "duration": 24,
    "start_time": "2023-05-20T14:35:31.200Z"
   },
   {
    "duration": 27,
    "start_time": "2023-05-20T14:35:31.225Z"
   },
   {
    "duration": 81,
    "start_time": "2023-05-20T14:35:31.253Z"
   },
   {
    "duration": 15,
    "start_time": "2023-05-20T14:35:32.564Z"
   },
   {
    "duration": 44,
    "start_time": "2023-05-20T14:35:42.051Z"
   },
   {
    "duration": 15,
    "start_time": "2023-05-20T14:35:45.957Z"
   },
   {
    "duration": 16,
    "start_time": "2023-05-20T14:36:05.389Z"
   },
   {
    "duration": 5,
    "start_time": "2023-05-20T14:38:25.040Z"
   },
   {
    "duration": 13,
    "start_time": "2023-05-20T14:38:29.561Z"
   },
   {
    "duration": 12,
    "start_time": "2023-05-20T14:38:34.671Z"
   },
   {
    "duration": 5,
    "start_time": "2023-05-20T14:38:56.771Z"
   },
   {
    "duration": 10,
    "start_time": "2023-05-20T14:38:57.767Z"
   },
   {
    "duration": 10,
    "start_time": "2023-05-20T14:38:58.302Z"
   },
   {
    "duration": 12,
    "start_time": "2023-05-20T14:42:56.547Z"
   },
   {
    "duration": 9,
    "start_time": "2023-05-20T14:44:21.585Z"
   },
   {
    "duration": 3,
    "start_time": "2023-05-20T14:45:00.707Z"
   },
   {
    "duration": 9,
    "start_time": "2023-05-20T14:45:03.163Z"
   },
   {
    "duration": 41,
    "start_time": "2023-05-20T14:45:38.959Z"
   },
   {
    "duration": 8,
    "start_time": "2023-05-20T14:45:43.247Z"
   },
   {
    "duration": 3,
    "start_time": "2023-05-20T14:45:47.990Z"
   },
   {
    "duration": 80,
    "start_time": "2023-05-20T14:50:06.853Z"
   },
   {
    "duration": 10,
    "start_time": "2023-05-20T14:51:11.654Z"
   },
   {
    "duration": 5,
    "start_time": "2023-05-20T14:51:14.159Z"
   },
   {
    "duration": 7,
    "start_time": "2023-05-20T14:51:32.646Z"
   },
   {
    "duration": 3,
    "start_time": "2023-05-20T14:52:57.147Z"
   },
   {
    "duration": 29,
    "start_time": "2023-05-20T14:52:57.153Z"
   },
   {
    "duration": 11,
    "start_time": "2023-05-20T14:52:57.184Z"
   },
   {
    "duration": 4,
    "start_time": "2023-05-20T14:52:57.197Z"
   },
   {
    "duration": 6,
    "start_time": "2023-05-20T14:52:57.204Z"
   },
   {
    "duration": 5,
    "start_time": "2023-05-20T14:52:57.212Z"
   },
   {
    "duration": 16,
    "start_time": "2023-05-20T14:52:57.219Z"
   },
   {
    "duration": 6,
    "start_time": "2023-05-20T14:52:57.237Z"
   },
   {
    "duration": 9,
    "start_time": "2023-05-20T14:52:57.245Z"
   },
   {
    "duration": 13,
    "start_time": "2023-05-20T14:52:57.256Z"
   },
   {
    "duration": 62,
    "start_time": "2023-05-20T14:52:57.271Z"
   },
   {
    "duration": 16,
    "start_time": "2023-05-20T14:52:57.335Z"
   },
   {
    "duration": 18,
    "start_time": "2023-05-20T14:52:57.354Z"
   },
   {
    "duration": 5,
    "start_time": "2023-05-20T14:52:57.374Z"
   },
   {
    "duration": 6,
    "start_time": "2023-05-20T14:52:57.381Z"
   },
   {
    "duration": 37,
    "start_time": "2023-05-20T14:52:57.389Z"
   },
   {
    "duration": 22,
    "start_time": "2023-05-20T14:52:57.428Z"
   },
   {
    "duration": 8,
    "start_time": "2023-05-20T14:52:57.452Z"
   },
   {
    "duration": 15,
    "start_time": "2023-05-20T14:52:57.462Z"
   },
   {
    "duration": 5,
    "start_time": "2023-05-20T14:52:57.479Z"
   },
   {
    "duration": 3,
    "start_time": "2023-05-20T14:52:58.804Z"
   },
   {
    "duration": 5,
    "start_time": "2023-05-20T14:52:59.203Z"
   },
   {
    "duration": 9,
    "start_time": "2023-05-20T14:53:06.547Z"
   },
   {
    "duration": 3,
    "start_time": "2023-05-20T14:53:34.578Z"
   },
   {
    "duration": 30,
    "start_time": "2023-05-20T14:53:34.583Z"
   },
   {
    "duration": 7,
    "start_time": "2023-05-20T14:53:34.615Z"
   },
   {
    "duration": 6,
    "start_time": "2023-05-20T14:53:34.624Z"
   },
   {
    "duration": 6,
    "start_time": "2023-05-20T14:53:34.632Z"
   },
   {
    "duration": 6,
    "start_time": "2023-05-20T14:53:34.639Z"
   },
   {
    "duration": 13,
    "start_time": "2023-05-20T14:53:34.647Z"
   },
   {
    "duration": 12,
    "start_time": "2023-05-20T14:53:34.661Z"
   },
   {
    "duration": 11,
    "start_time": "2023-05-20T14:53:34.675Z"
   },
   {
    "duration": 14,
    "start_time": "2023-05-20T14:53:34.689Z"
   },
   {
    "duration": 56,
    "start_time": "2023-05-20T14:53:34.704Z"
   },
   {
    "duration": 15,
    "start_time": "2023-05-20T14:53:34.762Z"
   },
   {
    "duration": 14,
    "start_time": "2023-05-20T14:53:34.778Z"
   },
   {
    "duration": 7,
    "start_time": "2023-05-20T14:53:34.794Z"
   },
   {
    "duration": 9,
    "start_time": "2023-05-20T14:53:34.802Z"
   },
   {
    "duration": 13,
    "start_time": "2023-05-20T14:53:34.812Z"
   },
   {
    "duration": 8,
    "start_time": "2023-05-20T14:53:34.827Z"
   },
   {
    "duration": 11,
    "start_time": "2023-05-20T14:53:34.836Z"
   },
   {
    "duration": 13,
    "start_time": "2023-05-20T14:53:34.848Z"
   },
   {
    "duration": 33,
    "start_time": "2023-05-20T14:53:34.862Z"
   },
   {
    "duration": 703,
    "start_time": "2023-05-20T14:53:34.896Z"
   },
   {
    "duration": 670,
    "start_time": "2023-05-20T14:53:35.671Z"
   },
   {
    "duration": 715,
    "start_time": "2023-05-20T14:53:45.972Z"
   },
   {
    "duration": 677,
    "start_time": "2023-05-20T14:53:54.668Z"
   },
   {
    "duration": 2,
    "start_time": "2023-05-20T14:53:56.942Z"
   },
   {
    "duration": 31,
    "start_time": "2023-05-20T14:53:56.946Z"
   },
   {
    "duration": 8,
    "start_time": "2023-05-20T14:53:56.978Z"
   },
   {
    "duration": 6,
    "start_time": "2023-05-20T14:53:56.987Z"
   },
   {
    "duration": 5,
    "start_time": "2023-05-20T14:53:56.995Z"
   },
   {
    "duration": 6,
    "start_time": "2023-05-20T14:53:57.001Z"
   },
   {
    "duration": 14,
    "start_time": "2023-05-20T14:53:57.008Z"
   },
   {
    "duration": 20,
    "start_time": "2023-05-20T14:53:57.023Z"
   },
   {
    "duration": 15,
    "start_time": "2023-05-20T14:53:57.045Z"
   },
   {
    "duration": 17,
    "start_time": "2023-05-20T14:53:57.061Z"
   },
   {
    "duration": 57,
    "start_time": "2023-05-20T14:53:57.081Z"
   },
   {
    "duration": 14,
    "start_time": "2023-05-20T14:53:57.139Z"
   },
   {
    "duration": 16,
    "start_time": "2023-05-20T14:53:57.154Z"
   },
   {
    "duration": 27,
    "start_time": "2023-05-20T14:53:57.171Z"
   },
   {
    "duration": 10,
    "start_time": "2023-05-20T14:53:57.199Z"
   },
   {
    "duration": 13,
    "start_time": "2023-05-20T14:53:57.211Z"
   },
   {
    "duration": 8,
    "start_time": "2023-05-20T14:53:57.226Z"
   },
   {
    "duration": 7,
    "start_time": "2023-05-20T14:53:57.235Z"
   },
   {
    "duration": 24,
    "start_time": "2023-05-20T14:53:57.244Z"
   },
   {
    "duration": 13,
    "start_time": "2023-05-20T14:53:57.270Z"
   },
   {
    "duration": 11,
    "start_time": "2023-05-20T14:53:57.285Z"
   },
   {
    "duration": 7,
    "start_time": "2023-05-20T14:53:58.934Z"
   },
   {
    "duration": 11,
    "start_time": "2023-05-20T14:54:00.851Z"
   },
   {
    "duration": 9,
    "start_time": "2023-05-20T14:54:09.058Z"
   },
   {
    "duration": 11,
    "start_time": "2023-05-20T14:54:20.509Z"
   },
   {
    "duration": 3,
    "start_time": "2023-05-20T14:54:23.949Z"
   },
   {
    "duration": 29,
    "start_time": "2023-05-20T14:54:23.954Z"
   },
   {
    "duration": 12,
    "start_time": "2023-05-20T14:54:23.986Z"
   },
   {
    "duration": 6,
    "start_time": "2023-05-20T14:54:23.999Z"
   },
   {
    "duration": 6,
    "start_time": "2023-05-20T14:54:24.007Z"
   },
   {
    "duration": 6,
    "start_time": "2023-05-20T14:54:24.015Z"
   },
   {
    "duration": 11,
    "start_time": "2023-05-20T14:54:24.023Z"
   },
   {
    "duration": 7,
    "start_time": "2023-05-20T14:54:24.035Z"
   },
   {
    "duration": 9,
    "start_time": "2023-05-20T14:54:24.044Z"
   },
   {
    "duration": 11,
    "start_time": "2023-05-20T14:54:24.055Z"
   },
   {
    "duration": 54,
    "start_time": "2023-05-20T14:54:24.068Z"
   },
   {
    "duration": 16,
    "start_time": "2023-05-20T14:54:24.124Z"
   },
   {
    "duration": 22,
    "start_time": "2023-05-20T14:54:24.141Z"
   },
   {
    "duration": 6,
    "start_time": "2023-05-20T14:54:24.167Z"
   },
   {
    "duration": 7,
    "start_time": "2023-05-20T14:54:24.175Z"
   },
   {
    "duration": 16,
    "start_time": "2023-05-20T14:54:24.184Z"
   },
   {
    "duration": 9,
    "start_time": "2023-05-20T14:54:24.226Z"
   },
   {
    "duration": 7,
    "start_time": "2023-05-20T14:54:24.237Z"
   },
   {
    "duration": 12,
    "start_time": "2023-05-20T14:54:24.246Z"
   },
   {
    "duration": 5,
    "start_time": "2023-05-20T14:54:24.260Z"
   },
   {
    "duration": 14,
    "start_time": "2023-05-20T14:54:24.267Z"
   },
   {
    "duration": 4,
    "start_time": "2023-05-20T14:54:28.063Z"
   },
   {
    "duration": 7,
    "start_time": "2023-05-20T14:54:28.468Z"
   },
   {
    "duration": 10,
    "start_time": "2023-05-20T14:54:29.144Z"
   },
   {
    "duration": 424,
    "start_time": "2023-05-20T14:55:06.194Z"
   },
   {
    "duration": 29,
    "start_time": "2023-05-20T14:55:06.620Z"
   },
   {
    "duration": 20,
    "start_time": "2023-05-20T14:55:06.650Z"
   },
   {
    "duration": 3,
    "start_time": "2023-05-20T14:55:06.673Z"
   },
   {
    "duration": 10,
    "start_time": "2023-05-20T14:55:06.679Z"
   },
   {
    "duration": 6,
    "start_time": "2023-05-20T14:55:06.691Z"
   },
   {
    "duration": 15,
    "start_time": "2023-05-20T14:55:06.699Z"
   },
   {
    "duration": 12,
    "start_time": "2023-05-20T14:55:06.715Z"
   },
   {
    "duration": 18,
    "start_time": "2023-05-20T14:55:06.729Z"
   },
   {
    "duration": 17,
    "start_time": "2023-05-20T14:55:06.748Z"
   },
   {
    "duration": 60,
    "start_time": "2023-05-20T14:55:06.766Z"
   },
   {
    "duration": 18,
    "start_time": "2023-05-20T14:55:06.828Z"
   },
   {
    "duration": 20,
    "start_time": "2023-05-20T14:55:06.849Z"
   },
   {
    "duration": 5,
    "start_time": "2023-05-20T14:55:06.873Z"
   },
   {
    "duration": 9,
    "start_time": "2023-05-20T14:55:06.880Z"
   },
   {
    "duration": 44,
    "start_time": "2023-05-20T14:55:06.890Z"
   },
   {
    "duration": 10,
    "start_time": "2023-05-20T14:55:06.936Z"
   },
   {
    "duration": 4,
    "start_time": "2023-05-20T14:55:06.948Z"
   },
   {
    "duration": 9,
    "start_time": "2023-05-20T14:55:06.953Z"
   },
   {
    "duration": 8,
    "start_time": "2023-05-20T14:55:11.590Z"
   },
   {
    "duration": 4,
    "start_time": "2023-05-20T14:55:12.151Z"
   },
   {
    "duration": 5,
    "start_time": "2023-05-20T14:55:20.241Z"
   },
   {
    "duration": 9,
    "start_time": "2023-05-20T14:55:20.751Z"
   },
   {
    "duration": 9,
    "start_time": "2023-05-20T14:55:29.066Z"
   },
   {
    "duration": 5,
    "start_time": "2023-05-20T14:56:16.658Z"
   },
   {
    "duration": 10,
    "start_time": "2023-05-20T14:56:19.886Z"
   },
   {
    "duration": 10,
    "start_time": "2023-05-20T14:56:24.795Z"
   },
   {
    "duration": 74,
    "start_time": "2023-05-20T14:58:05.179Z"
   },
   {
    "duration": 13,
    "start_time": "2023-05-20T14:58:18.987Z"
   },
   {
    "duration": 13,
    "start_time": "2023-05-20T15:01:12.190Z"
   },
   {
    "duration": 13,
    "start_time": "2023-05-20T15:02:11.973Z"
   },
   {
    "duration": 17,
    "start_time": "2023-05-20T15:02:19.575Z"
   },
   {
    "duration": 14,
    "start_time": "2023-05-20T15:02:47.176Z"
   },
   {
    "duration": 45,
    "start_time": "2023-05-20T15:05:07.603Z"
   },
   {
    "duration": 18,
    "start_time": "2023-05-20T15:05:09.659Z"
   },
   {
    "duration": 2,
    "start_time": "2023-05-20T15:05:39.907Z"
   },
   {
    "duration": 48,
    "start_time": "2023-05-20T15:05:39.911Z"
   },
   {
    "duration": 8,
    "start_time": "2023-05-20T15:05:39.960Z"
   },
   {
    "duration": 4,
    "start_time": "2023-05-20T15:05:39.970Z"
   },
   {
    "duration": 8,
    "start_time": "2023-05-20T15:05:39.976Z"
   },
   {
    "duration": 5,
    "start_time": "2023-05-20T15:05:39.985Z"
   },
   {
    "duration": 10,
    "start_time": "2023-05-20T15:05:39.992Z"
   },
   {
    "duration": 7,
    "start_time": "2023-05-20T15:05:40.004Z"
   },
   {
    "duration": 11,
    "start_time": "2023-05-20T15:05:40.013Z"
   },
   {
    "duration": 15,
    "start_time": "2023-05-20T15:05:40.026Z"
   },
   {
    "duration": 59,
    "start_time": "2023-05-20T15:05:40.043Z"
   },
   {
    "duration": 14,
    "start_time": "2023-05-20T15:05:40.104Z"
   },
   {
    "duration": 13,
    "start_time": "2023-05-20T15:05:40.121Z"
   },
   {
    "duration": 6,
    "start_time": "2023-05-20T15:05:40.136Z"
   },
   {
    "duration": 7,
    "start_time": "2023-05-20T15:05:40.144Z"
   },
   {
    "duration": 13,
    "start_time": "2023-05-20T15:05:40.152Z"
   },
   {
    "duration": 4,
    "start_time": "2023-05-20T15:05:43.642Z"
   },
   {
    "duration": 9,
    "start_time": "2023-05-20T15:05:46.305Z"
   },
   {
    "duration": 181,
    "start_time": "2023-05-20T15:05:47.033Z"
   },
   {
    "duration": 9,
    "start_time": "2023-05-20T15:05:50.454Z"
   },
   {
    "duration": 3,
    "start_time": "2023-05-20T15:06:09.511Z"
   },
   {
    "duration": 39,
    "start_time": "2023-05-20T15:06:09.517Z"
   },
   {
    "duration": 9,
    "start_time": "2023-05-20T15:06:09.557Z"
   },
   {
    "duration": 18,
    "start_time": "2023-05-20T15:06:09.568Z"
   },
   {
    "duration": 15,
    "start_time": "2023-05-20T15:06:09.590Z"
   },
   {
    "duration": 14,
    "start_time": "2023-05-20T15:06:09.608Z"
   },
   {
    "duration": 26,
    "start_time": "2023-05-20T15:06:09.625Z"
   },
   {
    "duration": 11,
    "start_time": "2023-05-20T15:06:09.655Z"
   },
   {
    "duration": 17,
    "start_time": "2023-05-20T15:06:09.668Z"
   },
   {
    "duration": 19,
    "start_time": "2023-05-20T15:06:09.687Z"
   },
   {
    "duration": 59,
    "start_time": "2023-05-20T15:06:09.709Z"
   },
   {
    "duration": 18,
    "start_time": "2023-05-20T15:06:09.771Z"
   },
   {
    "duration": 24,
    "start_time": "2023-05-20T15:06:09.791Z"
   },
   {
    "duration": 10,
    "start_time": "2023-05-20T15:06:09.819Z"
   },
   {
    "duration": 11,
    "start_time": "2023-05-20T15:06:09.831Z"
   },
   {
    "duration": 19,
    "start_time": "2023-05-20T15:06:09.845Z"
   },
   {
    "duration": 9,
    "start_time": "2023-05-20T15:06:12.496Z"
   },
   {
    "duration": 5,
    "start_time": "2023-05-20T15:06:13.431Z"
   },
   {
    "duration": 48,
    "start_time": "2023-05-20T15:06:16.514Z"
   },
   {
    "duration": 9,
    "start_time": "2023-05-20T15:06:18.757Z"
   },
   {
    "duration": 4,
    "start_time": "2023-05-20T15:06:19.266Z"
   },
   {
    "duration": 7,
    "start_time": "2023-05-20T15:06:19.710Z"
   },
   {
    "duration": 9,
    "start_time": "2023-05-20T15:06:20.308Z"
   },
   {
    "duration": 6,
    "start_time": "2023-05-20T15:06:21.733Z"
   },
   {
    "duration": 8,
    "start_time": "2023-05-20T15:06:22.130Z"
   },
   {
    "duration": 15,
    "start_time": "2023-05-20T15:06:23.306Z"
   },
   {
    "duration": 11,
    "start_time": "2023-05-20T15:06:36.454Z"
   },
   {
    "duration": 14,
    "start_time": "2023-05-20T15:06:41.187Z"
   },
   {
    "duration": 6,
    "start_time": "2023-05-20T15:08:18.836Z"
   },
   {
    "duration": 165,
    "start_time": "2023-05-20T15:10:17.466Z"
   },
   {
    "duration": 11,
    "start_time": "2023-05-20T15:10:54.903Z"
   },
   {
    "duration": 142,
    "start_time": "2023-05-20T15:12:32.833Z"
   },
   {
    "duration": 12,
    "start_time": "2023-05-20T15:12:33.546Z"
   },
   {
    "duration": 384,
    "start_time": "2023-05-20T15:13:15.865Z"
   },
   {
    "duration": 137,
    "start_time": "2023-05-20T15:13:37.486Z"
   },
   {
    "duration": 12,
    "start_time": "2023-05-20T15:13:41.695Z"
   },
   {
    "duration": 5,
    "start_time": "2023-05-20T15:14:57.461Z"
   },
   {
    "duration": 9,
    "start_time": "2023-05-20T15:15:01.092Z"
   },
   {
    "duration": 5,
    "start_time": "2023-05-20T15:15:15.575Z"
   },
   {
    "duration": 251,
    "start_time": "2023-05-20T15:15:35.998Z"
   },
   {
    "duration": 162,
    "start_time": "2023-05-20T15:15:53.453Z"
   },
   {
    "duration": 175,
    "start_time": "2023-05-20T15:15:59.294Z"
   },
   {
    "duration": 249,
    "start_time": "2023-05-20T15:18:37.654Z"
   },
   {
    "duration": 180,
    "start_time": "2023-05-20T15:18:44.128Z"
   },
   {
    "duration": 203,
    "start_time": "2023-05-20T15:19:49.779Z"
   },
   {
    "duration": 180,
    "start_time": "2023-05-20T15:19:59.053Z"
   },
   {
    "duration": 184,
    "start_time": "2023-05-20T15:20:02.695Z"
   },
   {
    "duration": 176,
    "start_time": "2023-05-20T15:20:10.582Z"
   },
   {
    "duration": 179,
    "start_time": "2023-05-20T15:20:15.583Z"
   },
   {
    "duration": 177,
    "start_time": "2023-05-20T15:20:20.248Z"
   },
   {
    "duration": 195,
    "start_time": "2023-05-20T15:20:27.291Z"
   },
   {
    "duration": 173,
    "start_time": "2023-05-20T15:20:34.977Z"
   },
   {
    "duration": 183,
    "start_time": "2023-05-20T15:22:03.400Z"
   },
   {
    "duration": 55,
    "start_time": "2023-05-20T15:26:12.235Z"
   },
   {
    "duration": 3,
    "start_time": "2023-05-20T15:27:36.731Z"
   },
   {
    "duration": 38,
    "start_time": "2023-05-20T15:27:36.736Z"
   },
   {
    "duration": 19,
    "start_time": "2023-05-20T15:27:36.776Z"
   },
   {
    "duration": 13,
    "start_time": "2023-05-20T15:27:36.797Z"
   },
   {
    "duration": 24,
    "start_time": "2023-05-20T15:27:36.812Z"
   },
   {
    "duration": 28,
    "start_time": "2023-05-20T15:27:36.838Z"
   },
   {
    "duration": 23,
    "start_time": "2023-05-20T15:27:36.868Z"
   },
   {
    "duration": 21,
    "start_time": "2023-05-20T15:27:36.892Z"
   },
   {
    "duration": 26,
    "start_time": "2023-05-20T15:27:36.914Z"
   },
   {
    "duration": 23,
    "start_time": "2023-05-20T15:27:36.942Z"
   },
   {
    "duration": 68,
    "start_time": "2023-05-20T15:27:36.967Z"
   },
   {
    "duration": 17,
    "start_time": "2023-05-20T15:27:37.037Z"
   },
   {
    "duration": 27,
    "start_time": "2023-05-20T15:27:37.056Z"
   },
   {
    "duration": 16,
    "start_time": "2023-05-20T15:27:37.085Z"
   },
   {
    "duration": 13,
    "start_time": "2023-05-20T15:27:37.103Z"
   },
   {
    "duration": 22,
    "start_time": "2023-05-20T15:27:37.117Z"
   },
   {
    "duration": 34,
    "start_time": "2023-05-20T15:27:37.141Z"
   },
   {
    "duration": 156,
    "start_time": "2023-05-20T15:27:38.638Z"
   },
   {
    "duration": 5,
    "start_time": "2023-05-20T15:27:40.169Z"
   },
   {
    "duration": 5,
    "start_time": "2023-05-20T15:28:01.128Z"
   },
   {
    "duration": 5,
    "start_time": "2023-05-20T15:28:01.549Z"
   },
   {
    "duration": 199,
    "start_time": "2023-05-20T15:28:03.358Z"
   },
   {
    "duration": 12,
    "start_time": "2023-05-20T15:30:55.470Z"
   },
   {
    "duration": 118,
    "start_time": "2023-05-20T15:32:53.979Z"
   },
   {
    "duration": 6,
    "start_time": "2023-05-20T15:33:30.457Z"
   },
   {
    "duration": 5,
    "start_time": "2023-05-20T15:33:39.588Z"
   },
   {
    "duration": 13,
    "start_time": "2023-05-20T15:33:41.887Z"
   },
   {
    "duration": 47,
    "start_time": "2023-05-20T15:34:02.197Z"
   },
   {
    "duration": 8,
    "start_time": "2023-05-20T15:34:04.659Z"
   },
   {
    "duration": 10,
    "start_time": "2023-05-20T15:34:10.136Z"
   },
   {
    "duration": 7,
    "start_time": "2023-05-20T15:34:40.693Z"
   },
   {
    "duration": 170,
    "start_time": "2023-05-20T15:34:42.040Z"
   },
   {
    "duration": 169,
    "start_time": "2023-05-20T15:34:52.173Z"
   },
   {
    "duration": 177,
    "start_time": "2023-05-20T15:36:54.228Z"
   },
   {
    "duration": 656,
    "start_time": "2023-05-20T15:46:07.706Z"
   },
   {
    "duration": 611,
    "start_time": "2023-05-20T15:51:54.175Z"
   },
   {
    "duration": 29,
    "start_time": "2023-05-20T15:51:54.787Z"
   },
   {
    "duration": 13,
    "start_time": "2023-05-20T15:51:54.818Z"
   },
   {
    "duration": 12,
    "start_time": "2023-05-20T15:51:54.834Z"
   },
   {
    "duration": 11,
    "start_time": "2023-05-20T15:51:54.849Z"
   },
   {
    "duration": 4,
    "start_time": "2023-05-20T15:51:54.862Z"
   },
   {
    "duration": 13,
    "start_time": "2023-05-20T15:51:54.868Z"
   },
   {
    "duration": 5,
    "start_time": "2023-05-20T15:51:54.883Z"
   },
   {
    "duration": 5,
    "start_time": "2023-05-20T15:51:54.890Z"
   },
   {
    "duration": 41,
    "start_time": "2023-05-20T15:51:54.897Z"
   },
   {
    "duration": 59,
    "start_time": "2023-05-20T15:51:54.939Z"
   },
   {
    "duration": 16,
    "start_time": "2023-05-20T15:51:55.000Z"
   },
   {
    "duration": 21,
    "start_time": "2023-05-20T15:51:55.018Z"
   },
   {
    "duration": 5,
    "start_time": "2023-05-20T15:51:55.044Z"
   },
   {
    "duration": 8,
    "start_time": "2023-05-20T15:51:55.050Z"
   },
   {
    "duration": 18,
    "start_time": "2023-05-20T15:51:55.060Z"
   },
   {
    "duration": 7,
    "start_time": "2023-05-20T15:51:55.080Z"
   },
   {
    "duration": 190,
    "start_time": "2023-05-20T15:51:55.088Z"
   },
   {
    "duration": 138,
    "start_time": "2023-05-20T15:51:55.280Z"
   },
   {
    "duration": 17,
    "start_time": "2023-05-20T15:51:55.424Z"
   },
   {
    "duration": 3,
    "start_time": "2023-05-20T15:51:55.443Z"
   },
   {
    "duration": 3,
    "start_time": "2023-05-20T15:51:56.220Z"
   },
   {
    "duration": 9,
    "start_time": "2023-05-20T15:51:56.804Z"
   },
   {
    "duration": 5,
    "start_time": "2023-05-20T15:52:00.257Z"
   },
   {
    "duration": 4,
    "start_time": "2023-05-20T15:52:00.697Z"
   },
   {
    "duration": 83,
    "start_time": "2023-05-20T15:52:02.160Z"
   },
   {
    "duration": 288,
    "start_time": "2023-05-20T15:52:10.386Z"
   },
   {
    "duration": 844,
    "start_time": "2023-05-20T15:52:25.046Z"
   },
   {
    "duration": 627,
    "start_time": "2023-05-20T15:53:08.170Z"
   },
   {
    "duration": 39,
    "start_time": "2023-05-20T15:53:08.799Z"
   },
   {
    "duration": 17,
    "start_time": "2023-05-20T15:53:08.840Z"
   },
   {
    "duration": 30,
    "start_time": "2023-05-20T15:53:08.859Z"
   },
   {
    "duration": 65,
    "start_time": "2023-05-20T15:53:08.891Z"
   },
   {
    "duration": 17,
    "start_time": "2023-05-20T15:53:08.958Z"
   },
   {
    "duration": 19,
    "start_time": "2023-05-20T15:53:08.977Z"
   },
   {
    "duration": 22,
    "start_time": "2023-05-20T15:53:08.999Z"
   },
   {
    "duration": 16,
    "start_time": "2023-05-20T15:53:09.023Z"
   },
   {
    "duration": 16,
    "start_time": "2023-05-20T15:53:09.042Z"
   },
   {
    "duration": 73,
    "start_time": "2023-05-20T15:53:09.059Z"
   },
   {
    "duration": 19,
    "start_time": "2023-05-20T15:53:09.134Z"
   },
   {
    "duration": 14,
    "start_time": "2023-05-20T15:53:09.154Z"
   },
   {
    "duration": 12,
    "start_time": "2023-05-20T15:53:09.170Z"
   },
   {
    "duration": 10,
    "start_time": "2023-05-20T15:53:09.184Z"
   },
   {
    "duration": 38,
    "start_time": "2023-05-20T15:53:09.196Z"
   },
   {
    "duration": 9,
    "start_time": "2023-05-20T15:53:09.238Z"
   },
   {
    "duration": 190,
    "start_time": "2023-05-20T15:53:09.249Z"
   },
   {
    "duration": 147,
    "start_time": "2023-05-20T15:53:09.443Z"
   },
   {
    "duration": 8,
    "start_time": "2023-05-20T15:53:09.592Z"
   },
   {
    "duration": 11,
    "start_time": "2023-05-20T15:53:09.602Z"
   },
   {
    "duration": 31,
    "start_time": "2023-05-20T15:53:09.614Z"
   },
   {
    "duration": 99,
    "start_time": "2023-05-20T15:53:09.646Z"
   },
   {
    "duration": 0,
    "start_time": "2023-05-20T15:53:09.751Z"
   },
   {
    "duration": 6,
    "start_time": "2023-05-20T15:55:44.102Z"
   },
   {
    "duration": 5,
    "start_time": "2023-05-20T15:55:51.561Z"
   },
   {
    "duration": 284,
    "start_time": "2023-05-20T15:55:53.162Z"
   },
   {
    "duration": 686,
    "start_time": "2023-05-20T15:56:01.965Z"
   },
   {
    "duration": 29,
    "start_time": "2023-05-20T15:56:02.654Z"
   },
   {
    "duration": 17,
    "start_time": "2023-05-20T15:56:02.684Z"
   },
   {
    "duration": 4,
    "start_time": "2023-05-20T15:56:02.702Z"
   },
   {
    "duration": 10,
    "start_time": "2023-05-20T15:56:02.709Z"
   },
   {
    "duration": 13,
    "start_time": "2023-05-20T15:56:02.722Z"
   },
   {
    "duration": 15,
    "start_time": "2023-05-20T15:56:02.744Z"
   },
   {
    "duration": 12,
    "start_time": "2023-05-20T15:56:02.761Z"
   },
   {
    "duration": 5,
    "start_time": "2023-05-20T15:56:02.775Z"
   },
   {
    "duration": 16,
    "start_time": "2023-05-20T15:56:02.782Z"
   },
   {
    "duration": 67,
    "start_time": "2023-05-20T15:56:02.800Z"
   },
   {
    "duration": 22,
    "start_time": "2023-05-20T15:56:02.869Z"
   },
   {
    "duration": 14,
    "start_time": "2023-05-20T15:56:02.893Z"
   },
   {
    "duration": 6,
    "start_time": "2023-05-20T15:56:02.910Z"
   },
   {
    "duration": 27,
    "start_time": "2023-05-20T15:56:02.918Z"
   },
   {
    "duration": 16,
    "start_time": "2023-05-20T15:56:02.948Z"
   },
   {
    "duration": 8,
    "start_time": "2023-05-20T15:56:02.968Z"
   },
   {
    "duration": 208,
    "start_time": "2023-05-20T15:56:02.979Z"
   },
   {
    "duration": 157,
    "start_time": "2023-05-20T15:56:03.189Z"
   },
   {
    "duration": 9,
    "start_time": "2023-05-20T15:56:03.348Z"
   },
   {
    "duration": 20,
    "start_time": "2023-05-20T15:56:03.358Z"
   },
   {
    "duration": 27,
    "start_time": "2023-05-20T15:56:03.380Z"
   },
   {
    "duration": 7,
    "start_time": "2023-05-20T15:56:03.409Z"
   },
   {
    "duration": 20,
    "start_time": "2023-05-20T15:56:03.417Z"
   },
   {
    "duration": 298,
    "start_time": "2023-05-20T15:56:03.439Z"
   },
   {
    "duration": 200,
    "start_time": "2023-05-20T15:56:06.062Z"
   },
   {
    "duration": 195,
    "start_time": "2023-05-20T15:56:09.084Z"
   },
   {
    "duration": 376,
    "start_time": "2023-05-20T15:56:34.482Z"
   },
   {
    "duration": 313,
    "start_time": "2023-05-20T15:56:59.354Z"
   },
   {
    "duration": 311,
    "start_time": "2023-05-20T16:04:21.896Z"
   },
   {
    "duration": 235,
    "start_time": "2023-05-20T16:05:01.685Z"
   },
   {
    "duration": 227,
    "start_time": "2023-05-20T16:06:06.818Z"
   },
   {
    "duration": 232,
    "start_time": "2023-05-20T16:06:21.890Z"
   },
   {
    "duration": 358,
    "start_time": "2023-05-20T16:12:16.590Z"
   },
   {
    "duration": 302,
    "start_time": "2023-05-20T16:12:59.268Z"
   },
   {
    "duration": 386,
    "start_time": "2023-05-20T16:13:09.622Z"
   },
   {
    "duration": 74,
    "start_time": "2023-05-20T16:14:33.024Z"
   },
   {
    "duration": 219,
    "start_time": "2023-05-20T16:14:55.643Z"
   },
   {
    "duration": 293,
    "start_time": "2023-05-20T16:15:47.566Z"
   },
   {
    "duration": 435,
    "start_time": "2023-05-20T16:16:29.255Z"
   },
   {
    "duration": 6,
    "start_time": "2023-05-20T16:37:50.277Z"
   },
   {
    "duration": 8,
    "start_time": "2023-05-20T16:37:53.305Z"
   },
   {
    "duration": 6,
    "start_time": "2023-05-20T16:39:28.274Z"
   },
   {
    "duration": 49,
    "start_time": "2023-05-20T16:39:29.532Z"
   },
   {
    "duration": 122,
    "start_time": "2023-05-20T16:39:44.336Z"
   },
   {
    "duration": 4,
    "start_time": "2023-05-20T16:41:53.312Z"
   },
   {
    "duration": 5,
    "start_time": "2023-05-20T16:41:59.262Z"
   },
   {
    "duration": 159,
    "start_time": "2023-05-20T16:49:19.788Z"
   },
   {
    "duration": 6,
    "start_time": "2023-05-20T16:53:04.090Z"
   },
   {
    "duration": 7,
    "start_time": "2023-05-20T17:06:29.875Z"
   },
   {
    "duration": 7,
    "start_time": "2023-05-20T17:06:41.600Z"
   },
   {
    "duration": 9,
    "start_time": "2023-05-20T17:06:46.021Z"
   },
   {
    "duration": 6,
    "start_time": "2023-05-20T17:07:19.075Z"
   },
   {
    "duration": 7,
    "start_time": "2023-05-20T17:07:27.302Z"
   },
   {
    "duration": 8,
    "start_time": "2023-05-20T17:07:28.309Z"
   },
   {
    "duration": 6,
    "start_time": "2023-05-20T17:12:42.899Z"
   },
   {
    "duration": 7,
    "start_time": "2023-05-20T17:12:56.920Z"
   },
   {
    "duration": 6,
    "start_time": "2023-05-20T17:13:46.771Z"
   },
   {
    "duration": 6,
    "start_time": "2023-05-20T17:13:52.720Z"
   },
   {
    "duration": 6,
    "start_time": "2023-05-20T17:14:01.662Z"
   },
   {
    "duration": 8,
    "start_time": "2023-05-20T17:14:55.082Z"
   },
   {
    "duration": 423,
    "start_time": "2023-05-20T17:15:10.730Z"
   },
   {
    "duration": 8,
    "start_time": "2023-05-20T17:15:40.889Z"
   },
   {
    "duration": 4,
    "start_time": "2023-05-20T17:21:50.878Z"
   },
   {
    "duration": 12,
    "start_time": "2023-05-20T17:22:52.087Z"
   },
   {
    "duration": 239,
    "start_time": "2023-05-20T17:23:27.499Z"
   },
   {
    "duration": 5,
    "start_time": "2023-05-20T17:24:02.605Z"
   },
   {
    "duration": 5,
    "start_time": "2023-05-20T17:24:13.079Z"
   },
   {
    "duration": 8,
    "start_time": "2023-05-20T17:24:32.084Z"
   },
   {
    "duration": 850,
    "start_time": "2023-05-20T17:24:47.074Z"
   },
   {
    "duration": 24,
    "start_time": "2023-05-20T17:24:52.301Z"
   },
   {
    "duration": 8,
    "start_time": "2023-05-20T17:25:11.579Z"
   },
   {
    "duration": 23,
    "start_time": "2023-05-20T17:25:50.970Z"
   },
   {
    "duration": 10,
    "start_time": "2023-05-20T17:29:55.958Z"
   },
   {
    "duration": 933,
    "start_time": "2023-05-20T17:36:12.262Z"
   },
   {
    "duration": 12,
    "start_time": "2023-05-20T17:36:35.791Z"
   },
   {
    "duration": 21,
    "start_time": "2023-05-20T17:41:23.223Z"
   },
   {
    "duration": 47,
    "start_time": "2023-05-20T17:42:34.252Z"
   },
   {
    "duration": 6,
    "start_time": "2023-05-20T17:42:39.667Z"
   },
   {
    "duration": 14,
    "start_time": "2023-05-20T17:42:49.015Z"
   },
   {
    "duration": 4,
    "start_time": "2023-05-20T17:42:53.487Z"
   },
   {
    "duration": 45,
    "start_time": "2023-05-20T17:43:43.254Z"
   },
   {
    "duration": 7,
    "start_time": "2023-05-20T17:43:54.913Z"
   },
   {
    "duration": 10,
    "start_time": "2023-05-20T17:45:56.299Z"
   },
   {
    "duration": 25,
    "start_time": "2023-05-20T17:46:01.147Z"
   },
   {
    "duration": 15,
    "start_time": "2023-05-20T17:52:30.198Z"
   },
   {
    "duration": 7,
    "start_time": "2023-05-20T18:11:40.213Z"
   },
   {
    "duration": 6,
    "start_time": "2023-05-20T18:11:47.013Z"
   },
   {
    "duration": 12,
    "start_time": "2023-05-20T18:20:49.105Z"
   },
   {
    "duration": 232,
    "start_time": "2023-05-20T18:21:00.827Z"
   },
   {
    "duration": 134,
    "start_time": "2023-05-20T18:22:04.097Z"
   },
   {
    "duration": 176,
    "start_time": "2023-05-20T18:22:27.275Z"
   },
   {
    "duration": 8,
    "start_time": "2023-05-20T18:24:27.764Z"
   },
   {
    "duration": 91,
    "start_time": "2023-05-20T18:24:32.591Z"
   },
   {
    "duration": 10,
    "start_time": "2023-05-20T18:24:45.377Z"
   },
   {
    "duration": 66,
    "start_time": "2023-05-20T18:26:00.208Z"
   },
   {
    "duration": 18,
    "start_time": "2023-05-20T18:26:10.059Z"
   },
   {
    "duration": 106,
    "start_time": "2023-05-20T18:26:24.163Z"
   },
   {
    "duration": 10,
    "start_time": "2023-05-20T18:26:32.112Z"
   },
   {
    "duration": 11,
    "start_time": "2023-05-20T18:27:51.213Z"
   },
   {
    "duration": 11,
    "start_time": "2023-05-20T18:28:00.155Z"
   },
   {
    "duration": 657,
    "start_time": "2023-05-20T18:32:50.766Z"
   },
   {
    "duration": 32,
    "start_time": "2023-05-20T18:32:51.425Z"
   },
   {
    "duration": 11,
    "start_time": "2023-05-20T18:32:51.459Z"
   },
   {
    "duration": 3,
    "start_time": "2023-05-20T18:32:51.472Z"
   },
   {
    "duration": 13,
    "start_time": "2023-05-20T18:32:51.477Z"
   },
   {
    "duration": 9,
    "start_time": "2023-05-20T18:32:51.492Z"
   },
   {
    "duration": 11,
    "start_time": "2023-05-20T18:32:51.503Z"
   },
   {
    "duration": 4,
    "start_time": "2023-05-20T18:32:51.516Z"
   },
   {
    "duration": 18,
    "start_time": "2023-05-20T18:32:51.522Z"
   },
   {
    "duration": 10,
    "start_time": "2023-05-20T18:32:51.543Z"
   },
   {
    "duration": 57,
    "start_time": "2023-05-20T18:32:51.555Z"
   },
   {
    "duration": 26,
    "start_time": "2023-05-20T18:32:51.614Z"
   },
   {
    "duration": 15,
    "start_time": "2023-05-20T18:32:51.642Z"
   },
   {
    "duration": 6,
    "start_time": "2023-05-20T18:32:51.659Z"
   },
   {
    "duration": 8,
    "start_time": "2023-05-20T18:32:51.667Z"
   },
   {
    "duration": 17,
    "start_time": "2023-05-20T18:32:51.677Z"
   },
   {
    "duration": 10,
    "start_time": "2023-05-20T18:32:51.696Z"
   },
   {
    "duration": 195,
    "start_time": "2023-05-20T18:32:51.708Z"
   },
   {
    "duration": 145,
    "start_time": "2023-05-20T18:32:51.904Z"
   },
   {
    "duration": 6,
    "start_time": "2023-05-20T18:32:52.051Z"
   },
   {
    "duration": 7,
    "start_time": "2023-05-20T18:32:52.060Z"
   },
   {
    "duration": 16,
    "start_time": "2023-05-20T18:32:52.069Z"
   },
   {
    "duration": 15,
    "start_time": "2023-05-20T18:32:52.086Z"
   },
   {
    "duration": 17,
    "start_time": "2023-05-20T18:32:52.103Z"
   },
   {
    "duration": 295,
    "start_time": "2023-05-20T18:32:52.122Z"
   },
   {
    "duration": 211,
    "start_time": "2023-05-20T18:32:52.426Z"
   },
   {
    "duration": 344,
    "start_time": "2023-05-20T18:32:52.642Z"
   },
   {
    "duration": 302,
    "start_time": "2023-05-20T18:32:52.990Z"
   },
   {
    "duration": 387,
    "start_time": "2023-05-20T18:32:53.294Z"
   },
   {
    "duration": 6,
    "start_time": "2023-05-20T18:32:53.682Z"
   },
   {
    "duration": 162,
    "start_time": "2023-05-20T18:32:53.690Z"
   },
   {
    "duration": 5,
    "start_time": "2023-05-20T18:32:53.853Z"
   },
   {
    "duration": 159,
    "start_time": "2023-05-20T18:32:53.860Z"
   },
   {
    "duration": 20,
    "start_time": "2023-05-20T18:32:54.021Z"
   },
   {
    "duration": 7,
    "start_time": "2023-05-20T18:32:54.043Z"
   },
   {
    "duration": 35,
    "start_time": "2023-05-20T18:32:54.051Z"
   },
   {
    "duration": 23,
    "start_time": "2023-05-20T18:32:54.088Z"
   },
   {
    "duration": 10,
    "start_time": "2023-05-20T18:32:54.114Z"
   },
   {
    "duration": 19,
    "start_time": "2023-05-20T18:32:54.126Z"
   },
   {
    "duration": 425,
    "start_time": "2023-05-20T18:32:54.149Z"
   },
   {
    "duration": 12,
    "start_time": "2023-05-20T18:32:54.576Z"
   },
   {
    "duration": 13,
    "start_time": "2023-05-20T18:32:54.589Z"
   },
   {
    "duration": 37,
    "start_time": "2023-05-20T18:32:54.604Z"
   },
   {
    "duration": 11,
    "start_time": "2023-05-20T18:32:54.643Z"
   },
   {
    "duration": 44,
    "start_time": "2023-05-20T18:32:54.656Z"
   },
   {
    "duration": 16,
    "start_time": "2023-05-20T18:32:54.702Z"
   },
   {
    "duration": 14,
    "start_time": "2023-05-20T18:32:54.726Z"
   },
   {
    "duration": 7,
    "start_time": "2023-05-20T18:32:54.742Z"
   },
   {
    "duration": 18,
    "start_time": "2023-05-20T18:32:54.751Z"
   },
   {
    "duration": 7,
    "start_time": "2023-05-20T18:42:52.457Z"
   },
   {
    "duration": 3,
    "start_time": "2023-05-20T18:43:10.261Z"
   },
   {
    "duration": 5,
    "start_time": "2023-05-20T18:43:29.506Z"
   },
   {
    "duration": 5,
    "start_time": "2023-05-20T18:43:36.594Z"
   },
   {
    "duration": 331,
    "start_time": "2023-05-20T18:44:36.049Z"
   },
   {
    "duration": 10,
    "start_time": "2023-05-20T18:47:36.460Z"
   },
   {
    "duration": 639,
    "start_time": "2023-05-20T18:48:53.873Z"
   },
   {
    "duration": 50,
    "start_time": "2023-05-20T18:48:54.514Z"
   },
   {
    "duration": 11,
    "start_time": "2023-05-20T18:48:54.566Z"
   },
   {
    "duration": 5,
    "start_time": "2023-05-20T18:48:54.578Z"
   },
   {
    "duration": 7,
    "start_time": "2023-05-20T18:48:54.585Z"
   },
   {
    "duration": 3,
    "start_time": "2023-05-20T18:48:54.594Z"
   },
   {
    "duration": 11,
    "start_time": "2023-05-20T18:48:54.599Z"
   },
   {
    "duration": 7,
    "start_time": "2023-05-20T18:48:54.611Z"
   },
   {
    "duration": 12,
    "start_time": "2023-05-20T18:48:54.619Z"
   },
   {
    "duration": 25,
    "start_time": "2023-05-20T18:48:54.632Z"
   },
   {
    "duration": 52,
    "start_time": "2023-05-20T18:48:54.659Z"
   },
   {
    "duration": 29,
    "start_time": "2023-05-20T18:48:54.712Z"
   },
   {
    "duration": 22,
    "start_time": "2023-05-20T18:48:54.743Z"
   },
   {
    "duration": 4,
    "start_time": "2023-05-20T18:48:54.768Z"
   },
   {
    "duration": 7,
    "start_time": "2023-05-20T18:48:54.774Z"
   },
   {
    "duration": 11,
    "start_time": "2023-05-20T18:48:54.782Z"
   },
   {
    "duration": 10,
    "start_time": "2023-05-20T18:48:54.795Z"
   },
   {
    "duration": 192,
    "start_time": "2023-05-20T18:48:54.806Z"
   },
   {
    "duration": 160,
    "start_time": "2023-05-20T18:48:55.000Z"
   },
   {
    "duration": 6,
    "start_time": "2023-05-20T18:48:55.162Z"
   },
   {
    "duration": 6,
    "start_time": "2023-05-20T18:48:55.170Z"
   },
   {
    "duration": 12,
    "start_time": "2023-05-20T18:48:55.177Z"
   },
   {
    "duration": 4,
    "start_time": "2023-05-20T18:48:55.191Z"
   },
   {
    "duration": 8,
    "start_time": "2023-05-20T18:48:55.197Z"
   },
   {
    "duration": 304,
    "start_time": "2023-05-20T18:48:55.206Z"
   },
   {
    "duration": 234,
    "start_time": "2023-05-20T18:48:55.512Z"
   },
   {
    "duration": 331,
    "start_time": "2023-05-20T18:48:55.754Z"
   },
   {
    "duration": 309,
    "start_time": "2023-05-20T18:48:56.087Z"
   },
   {
    "duration": 387,
    "start_time": "2023-05-20T18:48:56.398Z"
   },
   {
    "duration": 6,
    "start_time": "2023-05-20T18:48:56.787Z"
   },
   {
    "duration": 203,
    "start_time": "2023-05-20T18:48:56.794Z"
   },
   {
    "duration": 6,
    "start_time": "2023-05-20T18:48:56.999Z"
   },
   {
    "duration": 164,
    "start_time": "2023-05-20T18:48:57.006Z"
   },
   {
    "duration": 5,
    "start_time": "2023-05-20T18:48:57.172Z"
   },
   {
    "duration": 9,
    "start_time": "2023-05-20T18:48:57.179Z"
   },
   {
    "duration": 11,
    "start_time": "2023-05-20T18:48:57.190Z"
   },
   {
    "duration": 32,
    "start_time": "2023-05-20T18:48:57.203Z"
   },
   {
    "duration": 6,
    "start_time": "2023-05-20T18:48:57.237Z"
   },
   {
    "duration": 17,
    "start_time": "2023-05-20T18:48:57.245Z"
   },
   {
    "duration": 511,
    "start_time": "2023-05-20T18:48:57.264Z"
   },
   {
    "duration": 12,
    "start_time": "2023-05-20T18:48:57.778Z"
   },
   {
    "duration": 9,
    "start_time": "2023-05-20T18:48:57.792Z"
   },
   {
    "duration": 33,
    "start_time": "2023-05-20T18:48:57.803Z"
   },
   {
    "duration": 39,
    "start_time": "2023-05-20T18:48:57.845Z"
   },
   {
    "duration": 71,
    "start_time": "2023-05-20T18:48:57.885Z"
   },
   {
    "duration": 18,
    "start_time": "2023-05-20T18:48:57.960Z"
   },
   {
    "duration": 14,
    "start_time": "2023-05-20T18:48:57.980Z"
   },
   {
    "duration": 35,
    "start_time": "2023-05-20T18:48:57.996Z"
   },
   {
    "duration": 17,
    "start_time": "2023-05-20T18:48:58.033Z"
   },
   {
    "duration": 726,
    "start_time": "2023-05-22T06:14:08.204Z"
   },
   {
    "duration": 62,
    "start_time": "2023-05-22T06:14:08.932Z"
   },
   {
    "duration": 9,
    "start_time": "2023-05-22T06:14:08.996Z"
   },
   {
    "duration": 4,
    "start_time": "2023-05-22T06:14:09.007Z"
   },
   {
    "duration": 6,
    "start_time": "2023-05-22T06:14:09.012Z"
   },
   {
    "duration": 6,
    "start_time": "2023-05-22T06:14:09.019Z"
   },
   {
    "duration": 11,
    "start_time": "2023-05-22T06:14:09.026Z"
   },
   {
    "duration": 6,
    "start_time": "2023-05-22T06:14:09.038Z"
   },
   {
    "duration": 5,
    "start_time": "2023-05-22T06:14:09.045Z"
   },
   {
    "duration": 11,
    "start_time": "2023-05-22T06:14:09.052Z"
   },
   {
    "duration": 136,
    "start_time": "2023-05-22T06:14:09.064Z"
   },
   {
    "duration": 12,
    "start_time": "2023-05-22T06:14:09.202Z"
   },
   {
    "duration": 12,
    "start_time": "2023-05-22T06:14:09.216Z"
   },
   {
    "duration": 4,
    "start_time": "2023-05-22T06:14:09.229Z"
   },
   {
    "duration": 7,
    "start_time": "2023-05-22T06:14:09.235Z"
   },
   {
    "duration": 10,
    "start_time": "2023-05-22T06:14:09.243Z"
   },
   {
    "duration": 12,
    "start_time": "2023-05-22T06:14:09.254Z"
   },
   {
    "duration": 144,
    "start_time": "2023-05-22T06:14:09.267Z"
   },
   {
    "duration": 123,
    "start_time": "2023-05-22T06:14:09.412Z"
   },
   {
    "duration": 5,
    "start_time": "2023-05-22T06:14:09.536Z"
   },
   {
    "duration": 20,
    "start_time": "2023-05-22T06:14:09.542Z"
   },
   {
    "duration": 43,
    "start_time": "2023-05-22T06:14:09.563Z"
   },
   {
    "duration": 14,
    "start_time": "2023-05-22T06:14:09.607Z"
   },
   {
    "duration": 6,
    "start_time": "2023-05-22T06:14:09.622Z"
   },
   {
    "duration": 1552,
    "start_time": "2023-05-22T06:14:11.525Z"
   },
   {
    "duration": 4,
    "start_time": "2023-05-22T06:14:32.522Z"
   },
   {
    "duration": 4,
    "start_time": "2023-05-22T06:14:36.061Z"
   },
   {
    "duration": 3,
    "start_time": "2023-05-22T06:15:20.773Z"
   },
   {
    "duration": 2,
    "start_time": "2023-05-22T06:19:16.725Z"
   },
   {
    "duration": 4,
    "start_time": "2023-05-22T06:19:18.299Z"
   },
   {
    "duration": 5,
    "start_time": "2023-05-22T06:19:34.486Z"
   },
   {
    "duration": 3,
    "start_time": "2023-05-22T06:19:38.546Z"
   },
   {
    "duration": 30,
    "start_time": "2023-05-22T06:19:38.550Z"
   },
   {
    "duration": 8,
    "start_time": "2023-05-22T06:19:38.582Z"
   },
   {
    "duration": 6,
    "start_time": "2023-05-22T06:19:38.591Z"
   },
   {
    "duration": 7,
    "start_time": "2023-05-22T06:19:38.598Z"
   },
   {
    "duration": 6,
    "start_time": "2023-05-22T06:19:38.606Z"
   },
   {
    "duration": 17,
    "start_time": "2023-05-22T06:19:38.614Z"
   },
   {
    "duration": 6,
    "start_time": "2023-05-22T06:19:38.633Z"
   },
   {
    "duration": 8,
    "start_time": "2023-05-22T06:19:38.642Z"
   },
   {
    "duration": 11,
    "start_time": "2023-05-22T06:19:38.651Z"
   },
   {
    "duration": 57,
    "start_time": "2023-05-22T06:19:38.663Z"
   },
   {
    "duration": 14,
    "start_time": "2023-05-22T06:19:38.722Z"
   },
   {
    "duration": 13,
    "start_time": "2023-05-22T06:19:38.738Z"
   },
   {
    "duration": 19,
    "start_time": "2023-05-22T06:19:38.753Z"
   },
   {
    "duration": 8,
    "start_time": "2023-05-22T06:19:38.773Z"
   },
   {
    "duration": 11,
    "start_time": "2023-05-22T06:19:38.782Z"
   },
   {
    "duration": 7,
    "start_time": "2023-05-22T06:19:38.795Z"
   },
   {
    "duration": 143,
    "start_time": "2023-05-22T06:19:38.803Z"
   },
   {
    "duration": 108,
    "start_time": "2023-05-22T06:19:38.947Z"
   },
   {
    "duration": 5,
    "start_time": "2023-05-22T06:19:39.056Z"
   },
   {
    "duration": 23,
    "start_time": "2023-05-22T06:19:39.063Z"
   },
   {
    "duration": 57,
    "start_time": "2023-05-22T06:19:39.087Z"
   },
   {
    "duration": 72,
    "start_time": "2023-05-22T06:19:39.146Z"
   },
   {
    "duration": 57,
    "start_time": "2023-05-22T06:19:39.221Z"
   },
   {
    "duration": 10,
    "start_time": "2023-05-22T06:19:39.280Z"
   },
   {
    "duration": 14,
    "start_time": "2023-05-22T06:19:39.291Z"
   },
   {
    "duration": 13,
    "start_time": "2023-05-22T06:19:39.307Z"
   },
   {
    "duration": 12,
    "start_time": "2023-05-22T06:19:39.322Z"
   },
   {
    "duration": 19,
    "start_time": "2023-05-22T06:19:39.335Z"
   },
   {
    "duration": 6,
    "start_time": "2023-05-22T06:19:45.382Z"
   },
   {
    "duration": 9,
    "start_time": "2023-05-22T06:22:24.172Z"
   },
   {
    "duration": 4,
    "start_time": "2023-05-22T06:22:40.692Z"
   },
   {
    "duration": 11,
    "start_time": "2023-05-22T06:22:41.143Z"
   },
   {
    "duration": 5,
    "start_time": "2023-05-22T06:22:52.824Z"
   },
   {
    "duration": 8,
    "start_time": "2023-05-22T06:22:59.853Z"
   },
   {
    "duration": 5,
    "start_time": "2023-05-22T06:23:50.172Z"
   },
   {
    "duration": 6,
    "start_time": "2023-05-22T06:23:50.547Z"
   },
   {
    "duration": 245,
    "start_time": "2023-05-22T06:35:08.949Z"
   },
   {
    "duration": 163,
    "start_time": "2023-05-22T06:35:16.134Z"
   },
   {
    "duration": 186,
    "start_time": "2023-05-22T06:35:49.660Z"
   },
   {
    "duration": 350,
    "start_time": "2023-05-22T06:36:05.683Z"
   },
   {
    "duration": 187,
    "start_time": "2023-05-22T06:36:26.295Z"
   },
   {
    "duration": 296,
    "start_time": "2023-05-22T06:36:32.509Z"
   },
   {
    "duration": 8,
    "start_time": "2023-05-22T06:36:50.717Z"
   },
   {
    "duration": 3,
    "start_time": "2023-05-22T06:36:56.796Z"
   },
   {
    "duration": 30,
    "start_time": "2023-05-22T06:36:56.801Z"
   },
   {
    "duration": 7,
    "start_time": "2023-05-22T06:36:56.833Z"
   },
   {
    "duration": 4,
    "start_time": "2023-05-22T06:36:56.842Z"
   },
   {
    "duration": 12,
    "start_time": "2023-05-22T06:36:56.848Z"
   },
   {
    "duration": 29,
    "start_time": "2023-05-22T06:36:56.861Z"
   },
   {
    "duration": 27,
    "start_time": "2023-05-22T06:36:56.895Z"
   },
   {
    "duration": 8,
    "start_time": "2023-05-22T06:36:56.923Z"
   },
   {
    "duration": 6,
    "start_time": "2023-05-22T06:36:56.932Z"
   },
   {
    "duration": 10,
    "start_time": "2023-05-22T06:36:56.939Z"
   },
   {
    "duration": 61,
    "start_time": "2023-05-22T06:36:56.951Z"
   },
   {
    "duration": 14,
    "start_time": "2023-05-22T06:36:57.014Z"
   },
   {
    "duration": 18,
    "start_time": "2023-05-22T06:36:57.031Z"
   },
   {
    "duration": 16,
    "start_time": "2023-05-22T06:36:57.051Z"
   },
   {
    "duration": 32,
    "start_time": "2023-05-22T06:36:57.068Z"
   },
   {
    "duration": 14,
    "start_time": "2023-05-22T06:36:57.102Z"
   },
   {
    "duration": 8,
    "start_time": "2023-05-22T06:36:57.117Z"
   },
   {
    "duration": 176,
    "start_time": "2023-05-22T06:36:57.127Z"
   },
   {
    "duration": 117,
    "start_time": "2023-05-22T06:36:57.305Z"
   },
   {
    "duration": 5,
    "start_time": "2023-05-22T06:36:57.424Z"
   },
   {
    "duration": 7,
    "start_time": "2023-05-22T06:36:57.431Z"
   },
   {
    "duration": 26,
    "start_time": "2023-05-22T06:36:57.439Z"
   },
   {
    "duration": 10,
    "start_time": "2023-05-22T06:36:57.466Z"
   },
   {
    "duration": 23,
    "start_time": "2023-05-22T06:36:57.477Z"
   },
   {
    "duration": 22,
    "start_time": "2023-05-22T06:36:57.501Z"
   },
   {
    "duration": 15,
    "start_time": "2023-05-22T06:36:57.525Z"
   },
   {
    "duration": 8,
    "start_time": "2023-05-22T06:36:57.541Z"
   },
   {
    "duration": 13,
    "start_time": "2023-05-22T06:36:57.550Z"
   },
   {
    "duration": 9,
    "start_time": "2023-05-22T06:36:57.565Z"
   },
   {
    "duration": 34,
    "start_time": "2023-05-22T06:36:57.575Z"
   },
   {
    "duration": 191,
    "start_time": "2023-05-22T06:36:57.610Z"
   },
   {
    "duration": 201,
    "start_time": "2023-05-22T06:36:57.803Z"
   },
   {
    "duration": 298,
    "start_time": "2023-05-22T06:36:58.005Z"
   },
   {
    "duration": 228,
    "start_time": "2023-05-22T06:36:58.304Z"
   },
   {
    "duration": 311,
    "start_time": "2023-05-22T06:36:58.533Z"
   },
   {
    "duration": 5,
    "start_time": "2023-05-22T06:36:58.846Z"
   },
   {
    "duration": 6,
    "start_time": "2023-05-22T06:36:59.468Z"
   },
   {
    "duration": 117,
    "start_time": "2023-05-22T06:36:59.965Z"
   },
   {
    "duration": 116,
    "start_time": "2023-05-22T06:37:14.843Z"
   },
   {
    "duration": 127,
    "start_time": "2023-05-22T06:37:20.476Z"
   },
   {
    "duration": 8,
    "start_time": "2023-05-22T06:38:37.581Z"
   },
   {
    "duration": 3,
    "start_time": "2023-05-22T06:38:41.177Z"
   },
   {
    "duration": 30,
    "start_time": "2023-05-22T06:38:41.181Z"
   },
   {
    "duration": 7,
    "start_time": "2023-05-22T06:38:43.452Z"
   },
   {
    "duration": 9,
    "start_time": "2023-05-22T06:38:50.196Z"
   },
   {
    "duration": 138,
    "start_time": "2023-05-22T06:40:14.509Z"
   },
   {
    "duration": 5,
    "start_time": "2023-05-22T06:40:18.045Z"
   },
   {
    "duration": 9,
    "start_time": "2023-05-22T06:40:25.612Z"
   },
   {
    "duration": 471,
    "start_time": "2023-05-22T06:43:54.918Z"
   },
   {
    "duration": 2,
    "start_time": "2023-05-22T06:43:58.594Z"
   },
   {
    "duration": 31,
    "start_time": "2023-05-22T06:43:58.598Z"
   },
   {
    "duration": 9,
    "start_time": "2023-05-22T06:43:58.630Z"
   },
   {
    "duration": 8,
    "start_time": "2023-05-22T06:43:58.640Z"
   },
   {
    "duration": 11,
    "start_time": "2023-05-22T06:43:58.650Z"
   },
   {
    "duration": 5,
    "start_time": "2023-05-22T06:43:58.662Z"
   },
   {
    "duration": 13,
    "start_time": "2023-05-22T06:43:58.668Z"
   },
   {
    "duration": 8,
    "start_time": "2023-05-22T06:43:58.683Z"
   },
   {
    "duration": 5,
    "start_time": "2023-05-22T06:43:58.694Z"
   },
   {
    "duration": 8,
    "start_time": "2023-05-22T06:43:58.700Z"
   },
   {
    "duration": 53,
    "start_time": "2023-05-22T06:43:58.709Z"
   },
   {
    "duration": 12,
    "start_time": "2023-05-22T06:43:58.764Z"
   },
   {
    "duration": 14,
    "start_time": "2023-05-22T06:43:58.778Z"
   },
   {
    "duration": 11,
    "start_time": "2023-05-22T06:43:58.793Z"
   },
   {
    "duration": 5,
    "start_time": "2023-05-22T06:43:58.805Z"
   },
   {
    "duration": 13,
    "start_time": "2023-05-22T06:43:58.811Z"
   },
   {
    "duration": 7,
    "start_time": "2023-05-22T06:43:58.825Z"
   },
   {
    "duration": 151,
    "start_time": "2023-05-22T06:43:58.834Z"
   },
   {
    "duration": 117,
    "start_time": "2023-05-22T06:43:58.987Z"
   },
   {
    "duration": 5,
    "start_time": "2023-05-22T06:43:59.106Z"
   },
   {
    "duration": 11,
    "start_time": "2023-05-22T06:43:59.112Z"
   },
   {
    "duration": 11,
    "start_time": "2023-05-22T06:43:59.124Z"
   },
   {
    "duration": 5,
    "start_time": "2023-05-22T06:43:59.137Z"
   },
   {
    "duration": 5,
    "start_time": "2023-05-22T06:43:59.145Z"
   },
   {
    "duration": 7,
    "start_time": "2023-05-22T06:43:59.151Z"
   },
   {
    "duration": 25,
    "start_time": "2023-05-22T06:43:59.160Z"
   },
   {
    "duration": 6,
    "start_time": "2023-05-22T06:43:59.187Z"
   },
   {
    "duration": 11,
    "start_time": "2023-05-22T06:43:59.194Z"
   },
   {
    "duration": 8,
    "start_time": "2023-05-22T06:43:59.207Z"
   },
   {
    "duration": 14,
    "start_time": "2023-05-22T06:43:59.217Z"
   },
   {
    "duration": 171,
    "start_time": "2023-05-22T06:43:59.232Z"
   },
   {
    "duration": 174,
    "start_time": "2023-05-22T06:43:59.405Z"
   },
   {
    "duration": 284,
    "start_time": "2023-05-22T06:43:59.580Z"
   },
   {
    "duration": 199,
    "start_time": "2023-05-22T06:43:59.866Z"
   },
   {
    "duration": 320,
    "start_time": "2023-05-22T06:44:00.066Z"
   },
   {
    "duration": 7,
    "start_time": "2023-05-22T06:44:00.389Z"
   },
   {
    "duration": 211,
    "start_time": "2023-05-22T06:44:00.398Z"
   },
   {
    "duration": 4,
    "start_time": "2023-05-22T06:44:00.611Z"
   },
   {
    "duration": 155,
    "start_time": "2023-05-22T06:44:00.617Z"
   },
   {
    "duration": 11,
    "start_time": "2023-05-22T06:44:00.774Z"
   },
   {
    "duration": 39,
    "start_time": "2023-05-22T06:44:00.786Z"
   },
   {
    "duration": 42,
    "start_time": "2023-05-22T06:44:00.826Z"
   },
   {
    "duration": 62,
    "start_time": "2023-05-22T06:44:00.869Z"
   },
   {
    "duration": 22,
    "start_time": "2023-05-22T06:44:00.933Z"
   },
   {
    "duration": 44,
    "start_time": "2023-05-22T06:44:00.957Z"
   },
   {
    "duration": 7,
    "start_time": "2023-05-22T06:44:01.636Z"
   },
   {
    "duration": 21,
    "start_time": "2023-05-22T06:44:01.986Z"
   },
   {
    "duration": 111,
    "start_time": "2023-05-22T06:45:40.405Z"
   },
   {
    "duration": 13,
    "start_time": "2023-05-22T06:47:12.701Z"
   },
   {
    "duration": 3,
    "start_time": "2023-05-22T06:47:15.298Z"
   },
   {
    "duration": 35,
    "start_time": "2023-05-22T06:47:15.303Z"
   },
   {
    "duration": 9,
    "start_time": "2023-05-22T06:47:15.340Z"
   },
   {
    "duration": 9,
    "start_time": "2023-05-22T06:47:15.351Z"
   },
   {
    "duration": 7,
    "start_time": "2023-05-22T06:47:15.362Z"
   },
   {
    "duration": 11,
    "start_time": "2023-05-22T06:47:15.371Z"
   },
   {
    "duration": 19,
    "start_time": "2023-05-22T06:47:15.383Z"
   },
   {
    "duration": 39,
    "start_time": "2023-05-22T06:47:15.404Z"
   },
   {
    "duration": 17,
    "start_time": "2023-05-22T06:47:15.446Z"
   },
   {
    "duration": 32,
    "start_time": "2023-05-22T06:47:15.465Z"
   },
   {
    "duration": 74,
    "start_time": "2023-05-22T06:47:15.499Z"
   },
   {
    "duration": 17,
    "start_time": "2023-05-22T06:47:15.575Z"
   },
   {
    "duration": 37,
    "start_time": "2023-05-22T06:47:15.593Z"
   },
   {
    "duration": 5,
    "start_time": "2023-05-22T06:47:15.632Z"
   },
   {
    "duration": 24,
    "start_time": "2023-05-22T06:47:15.639Z"
   },
   {
    "duration": 62,
    "start_time": "2023-05-22T06:47:15.664Z"
   },
   {
    "duration": 28,
    "start_time": "2023-05-22T06:47:15.728Z"
   },
   {
    "duration": 160,
    "start_time": "2023-05-22T06:47:15.757Z"
   },
   {
    "duration": 131,
    "start_time": "2023-05-22T06:47:15.919Z"
   },
   {
    "duration": 6,
    "start_time": "2023-05-22T06:47:16.052Z"
   },
   {
    "duration": 24,
    "start_time": "2023-05-22T06:47:16.060Z"
   },
   {
    "duration": 23,
    "start_time": "2023-05-22T06:47:16.086Z"
   },
   {
    "duration": 35,
    "start_time": "2023-05-22T06:47:16.111Z"
   },
   {
    "duration": 13,
    "start_time": "2023-05-22T06:47:16.150Z"
   },
   {
    "duration": 23,
    "start_time": "2023-05-22T06:47:16.165Z"
   },
   {
    "duration": 21,
    "start_time": "2023-05-22T06:47:16.189Z"
   },
   {
    "duration": 23,
    "start_time": "2023-05-22T06:47:16.212Z"
   },
   {
    "duration": 12,
    "start_time": "2023-05-22T06:47:16.236Z"
   },
   {
    "duration": 13,
    "start_time": "2023-05-22T06:47:16.250Z"
   },
   {
    "duration": 35,
    "start_time": "2023-05-22T06:47:16.264Z"
   },
   {
    "duration": 173,
    "start_time": "2023-05-22T06:47:16.301Z"
   },
   {
    "duration": 166,
    "start_time": "2023-05-22T06:47:16.475Z"
   },
   {
    "duration": 264,
    "start_time": "2023-05-22T06:47:16.642Z"
   },
   {
    "duration": 200,
    "start_time": "2023-05-22T06:47:16.907Z"
   },
   {
    "duration": 289,
    "start_time": "2023-05-22T06:47:17.108Z"
   },
   {
    "duration": 5,
    "start_time": "2023-05-22T06:47:17.398Z"
   },
   {
    "duration": 124,
    "start_time": "2023-05-22T06:47:17.404Z"
   },
   {
    "duration": 4,
    "start_time": "2023-05-22T06:47:17.530Z"
   },
   {
    "duration": 153,
    "start_time": "2023-05-22T06:47:17.536Z"
   },
   {
    "duration": 5,
    "start_time": "2023-05-22T06:47:17.691Z"
   },
   {
    "duration": 18,
    "start_time": "2023-05-22T06:47:17.698Z"
   },
   {
    "duration": 19,
    "start_time": "2023-05-22T06:47:17.717Z"
   },
   {
    "duration": 19,
    "start_time": "2023-05-22T06:47:17.738Z"
   },
   {
    "duration": 18,
    "start_time": "2023-05-22T06:47:17.758Z"
   },
   {
    "duration": 8,
    "start_time": "2023-05-22T06:47:17.778Z"
   },
   {
    "duration": 21,
    "start_time": "2023-05-22T06:47:17.787Z"
   },
   {
    "duration": 8,
    "start_time": "2023-05-22T06:47:17.810Z"
   },
   {
    "duration": 12,
    "start_time": "2023-05-22T06:47:17.820Z"
   },
   {
    "duration": 12,
    "start_time": "2023-05-22T06:47:18.645Z"
   },
   {
    "duration": 15,
    "start_time": "2023-05-22T06:47:46.901Z"
   },
   {
    "duration": 10,
    "start_time": "2023-05-22T06:47:53.013Z"
   },
   {
    "duration": 4,
    "start_time": "2023-05-22T06:48:30.621Z"
   },
   {
    "duration": 3,
    "start_time": "2023-05-22T06:50:44.874Z"
   },
   {
    "duration": 33,
    "start_time": "2023-05-22T06:50:44.879Z"
   },
   {
    "duration": 11,
    "start_time": "2023-05-22T06:50:44.914Z"
   },
   {
    "duration": 12,
    "start_time": "2023-05-22T06:50:44.927Z"
   },
   {
    "duration": 8,
    "start_time": "2023-05-22T06:50:44.940Z"
   },
   {
    "duration": 14,
    "start_time": "2023-05-22T06:50:44.949Z"
   },
   {
    "duration": 9,
    "start_time": "2023-05-22T06:50:44.964Z"
   },
   {
    "duration": 6,
    "start_time": "2023-05-22T06:50:44.975Z"
   },
   {
    "duration": 11,
    "start_time": "2023-05-22T06:50:44.984Z"
   },
   {
    "duration": 11,
    "start_time": "2023-05-22T06:50:44.996Z"
   },
   {
    "duration": 116,
    "start_time": "2023-05-22T06:50:45.009Z"
   },
   {
    "duration": 13,
    "start_time": "2023-05-22T06:50:45.127Z"
   },
   {
    "duration": 32,
    "start_time": "2023-05-22T06:50:45.141Z"
   },
   {
    "duration": 17,
    "start_time": "2023-05-22T06:50:45.174Z"
   },
   {
    "duration": 24,
    "start_time": "2023-05-22T06:50:45.193Z"
   },
   {
    "duration": 22,
    "start_time": "2023-05-22T06:50:45.219Z"
   },
   {
    "duration": 15,
    "start_time": "2023-05-22T06:50:45.243Z"
   },
   {
    "duration": 150,
    "start_time": "2023-05-22T06:50:45.260Z"
   },
   {
    "duration": 112,
    "start_time": "2023-05-22T06:50:45.412Z"
   },
   {
    "duration": 6,
    "start_time": "2023-05-22T06:50:45.526Z"
   },
   {
    "duration": 31,
    "start_time": "2023-05-22T06:50:45.533Z"
   },
   {
    "duration": 30,
    "start_time": "2023-05-22T06:50:45.566Z"
   },
   {
    "duration": 49,
    "start_time": "2023-05-22T06:50:45.597Z"
   },
   {
    "duration": 8,
    "start_time": "2023-05-22T06:50:45.649Z"
   },
   {
    "duration": 15,
    "start_time": "2023-05-22T06:50:45.658Z"
   },
   {
    "duration": 20,
    "start_time": "2023-05-22T06:50:45.674Z"
   },
   {
    "duration": 18,
    "start_time": "2023-05-22T06:50:45.696Z"
   },
   {
    "duration": 34,
    "start_time": "2023-05-22T06:50:45.715Z"
   },
   {
    "duration": 15,
    "start_time": "2023-05-22T06:50:45.751Z"
   },
   {
    "duration": 11,
    "start_time": "2023-05-22T06:50:45.767Z"
   },
   {
    "duration": 203,
    "start_time": "2023-05-22T06:50:45.780Z"
   },
   {
    "duration": 215,
    "start_time": "2023-05-22T06:50:45.985Z"
   },
   {
    "duration": 286,
    "start_time": "2023-05-22T06:50:46.201Z"
   },
   {
    "duration": 196,
    "start_time": "2023-05-22T06:50:46.488Z"
   },
   {
    "duration": 318,
    "start_time": "2023-05-22T06:50:46.686Z"
   },
   {
    "duration": 6,
    "start_time": "2023-05-22T06:50:47.006Z"
   },
   {
    "duration": 213,
    "start_time": "2023-05-22T06:50:47.014Z"
   },
   {
    "duration": 5,
    "start_time": "2023-05-22T06:50:47.228Z"
   },
   {
    "duration": 133,
    "start_time": "2023-05-22T06:50:47.234Z"
   },
   {
    "duration": 4,
    "start_time": "2023-05-22T06:50:47.369Z"
   },
   {
    "duration": 19,
    "start_time": "2023-05-22T06:50:47.384Z"
   },
   {
    "duration": 10,
    "start_time": "2023-05-22T06:50:47.405Z"
   },
   {
    "duration": 19,
    "start_time": "2023-05-22T06:50:47.417Z"
   },
   {
    "duration": 10,
    "start_time": "2023-05-22T06:50:47.438Z"
   },
   {
    "duration": 18,
    "start_time": "2023-05-22T06:50:47.450Z"
   },
   {
    "duration": 27,
    "start_time": "2023-05-22T06:50:47.469Z"
   },
   {
    "duration": 10,
    "start_time": "2023-05-22T06:50:47.498Z"
   },
   {
    "duration": 19,
    "start_time": "2023-05-22T06:50:47.510Z"
   },
   {
    "duration": 26,
    "start_time": "2023-05-22T06:50:47.531Z"
   },
   {
    "duration": 15,
    "start_time": "2023-05-22T06:50:47.558Z"
   },
   {
    "duration": 18,
    "start_time": "2023-05-22T06:50:47.575Z"
   },
   {
    "duration": 12,
    "start_time": "2023-05-22T06:50:47.594Z"
   },
   {
    "duration": 12,
    "start_time": "2023-05-22T06:50:49.901Z"
   },
   {
    "duration": 597,
    "start_time": "2023-05-22T07:01:23.616Z"
   },
   {
    "duration": 113,
    "start_time": "2023-05-22T07:01:26.252Z"
   },
   {
    "duration": 24,
    "start_time": "2023-05-22T07:01:34.173Z"
   },
   {
    "duration": 66,
    "start_time": "2023-05-22T07:01:41.796Z"
   },
   {
    "duration": 72,
    "start_time": "2023-05-22T07:02:11.853Z"
   },
   {
    "duration": 3,
    "start_time": "2023-05-22T07:02:13.949Z"
   },
   {
    "duration": 29,
    "start_time": "2023-05-22T07:02:13.954Z"
   },
   {
    "duration": 26,
    "start_time": "2023-05-22T07:02:14.973Z"
   },
   {
    "duration": 10,
    "start_time": "2023-05-22T07:02:15.468Z"
   },
   {
    "duration": 2,
    "start_time": "2023-05-22T07:02:17.963Z"
   },
   {
    "duration": 31,
    "start_time": "2023-05-22T07:02:17.967Z"
   },
   {
    "duration": 9,
    "start_time": "2023-05-22T07:02:17.999Z"
   },
   {
    "duration": 12,
    "start_time": "2023-05-22T07:02:18.009Z"
   },
   {
    "duration": 5,
    "start_time": "2023-05-22T07:02:18.023Z"
   },
   {
    "duration": 9,
    "start_time": "2023-05-22T07:02:18.029Z"
   },
   {
    "duration": 9,
    "start_time": "2023-05-22T07:02:18.039Z"
   },
   {
    "duration": 10,
    "start_time": "2023-05-22T07:02:18.049Z"
   },
   {
    "duration": 15,
    "start_time": "2023-05-22T07:02:18.060Z"
   },
   {
    "duration": 12,
    "start_time": "2023-05-22T07:02:18.076Z"
   },
   {
    "duration": 57,
    "start_time": "2023-05-22T07:02:18.089Z"
   },
   {
    "duration": 12,
    "start_time": "2023-05-22T07:02:18.147Z"
   },
   {
    "duration": 16,
    "start_time": "2023-05-22T07:02:18.160Z"
   },
   {
    "duration": 7,
    "start_time": "2023-05-22T07:02:18.178Z"
   },
   {
    "duration": 5,
    "start_time": "2023-05-22T07:02:18.186Z"
   },
   {
    "duration": 16,
    "start_time": "2023-05-22T07:02:18.192Z"
   },
   {
    "duration": 18,
    "start_time": "2023-05-22T07:02:18.209Z"
   },
   {
    "duration": 141,
    "start_time": "2023-05-22T07:02:18.229Z"
   },
   {
    "duration": 113,
    "start_time": "2023-05-22T07:02:18.372Z"
   },
   {
    "duration": 5,
    "start_time": "2023-05-22T07:02:18.487Z"
   },
   {
    "duration": 4,
    "start_time": "2023-05-22T07:02:18.494Z"
   },
   {
    "duration": 10,
    "start_time": "2023-05-22T07:02:18.499Z"
   },
   {
    "duration": 4,
    "start_time": "2023-05-22T07:02:18.510Z"
   },
   {
    "duration": 4,
    "start_time": "2023-05-22T07:02:18.516Z"
   },
   {
    "duration": 8,
    "start_time": "2023-05-22T07:02:18.522Z"
   },
   {
    "duration": 9,
    "start_time": "2023-05-22T07:02:18.531Z"
   },
   {
    "duration": 4,
    "start_time": "2023-05-22T07:02:18.541Z"
   },
   {
    "duration": 9,
    "start_time": "2023-05-22T07:02:18.547Z"
   },
   {
    "duration": 29,
    "start_time": "2023-05-22T07:02:18.557Z"
   },
   {
    "duration": 6,
    "start_time": "2023-05-22T07:02:18.587Z"
   },
   {
    "duration": 242,
    "start_time": "2023-05-22T07:02:18.594Z"
   },
   {
    "duration": 165,
    "start_time": "2023-05-22T07:02:18.837Z"
   },
   {
    "duration": 269,
    "start_time": "2023-05-22T07:02:19.004Z"
   },
   {
    "duration": 230,
    "start_time": "2023-05-22T07:02:19.274Z"
   },
   {
    "duration": 292,
    "start_time": "2023-05-22T07:02:19.505Z"
   },
   {
    "duration": 5,
    "start_time": "2023-05-22T07:02:19.798Z"
   },
   {
    "duration": 118,
    "start_time": "2023-05-22T07:02:19.805Z"
   },
   {
    "duration": 4,
    "start_time": "2023-05-22T07:02:19.925Z"
   },
   {
    "duration": 128,
    "start_time": "2023-05-22T07:02:19.930Z"
   },
   {
    "duration": 4,
    "start_time": "2023-05-22T07:02:20.059Z"
   },
   {
    "duration": 18,
    "start_time": "2023-05-22T07:02:20.066Z"
   },
   {
    "duration": 6,
    "start_time": "2023-05-22T07:02:20.086Z"
   },
   {
    "duration": 7,
    "start_time": "2023-05-22T07:02:20.094Z"
   },
   {
    "duration": 13,
    "start_time": "2023-05-22T07:02:20.102Z"
   },
   {
    "duration": 9,
    "start_time": "2023-05-22T07:02:20.117Z"
   },
   {
    "duration": 412,
    "start_time": "2023-05-22T07:02:20.128Z"
   },
   {
    "duration": 9,
    "start_time": "2023-05-22T07:02:20.541Z"
   },
   {
    "duration": 12,
    "start_time": "2023-05-22T07:02:20.551Z"
   },
   {
    "duration": 22,
    "start_time": "2023-05-22T07:02:20.564Z"
   },
   {
    "duration": 9,
    "start_time": "2023-05-22T07:02:20.587Z"
   },
   {
    "duration": 21,
    "start_time": "2023-05-22T07:02:20.598Z"
   },
   {
    "duration": 11,
    "start_time": "2023-05-22T07:02:20.620Z"
   },
   {
    "duration": 10,
    "start_time": "2023-05-22T07:02:20.632Z"
   },
   {
    "duration": 23,
    "start_time": "2023-05-22T07:02:20.644Z"
   },
   {
    "duration": 31,
    "start_time": "2023-05-22T07:02:20.668Z"
   },
   {
    "duration": 617,
    "start_time": "2023-05-22T07:02:31.411Z"
   },
   {
    "duration": 28,
    "start_time": "2023-05-22T07:02:32.030Z"
   },
   {
    "duration": 11,
    "start_time": "2023-05-22T07:02:32.059Z"
   },
   {
    "duration": 9,
    "start_time": "2023-05-22T07:02:32.072Z"
   },
   {
    "duration": 9,
    "start_time": "2023-05-22T07:02:32.082Z"
   },
   {
    "duration": 7,
    "start_time": "2023-05-22T07:02:32.092Z"
   },
   {
    "duration": 30,
    "start_time": "2023-05-22T07:02:32.100Z"
   },
   {
    "duration": 25,
    "start_time": "2023-05-22T07:02:32.132Z"
   },
   {
    "duration": 19,
    "start_time": "2023-05-22T07:02:32.158Z"
   },
   {
    "duration": 22,
    "start_time": "2023-05-22T07:02:32.180Z"
   },
   {
    "duration": 59,
    "start_time": "2023-05-22T07:02:32.203Z"
   },
   {
    "duration": 14,
    "start_time": "2023-05-22T07:02:32.263Z"
   },
   {
    "duration": 12,
    "start_time": "2023-05-22T07:02:32.278Z"
   },
   {
    "duration": 4,
    "start_time": "2023-05-22T07:02:32.292Z"
   },
   {
    "duration": 8,
    "start_time": "2023-05-22T07:02:32.297Z"
   },
   {
    "duration": 15,
    "start_time": "2023-05-22T07:02:32.307Z"
   },
   {
    "duration": 6,
    "start_time": "2023-05-22T07:02:32.323Z"
   },
   {
    "duration": 154,
    "start_time": "2023-05-22T07:02:32.330Z"
   },
   {
    "duration": 111,
    "start_time": "2023-05-22T07:02:32.486Z"
   },
   {
    "duration": 6,
    "start_time": "2023-05-22T07:02:32.599Z"
   },
   {
    "duration": 28,
    "start_time": "2023-05-22T07:02:32.607Z"
   },
   {
    "duration": 10,
    "start_time": "2023-05-22T07:02:32.636Z"
   },
   {
    "duration": 8,
    "start_time": "2023-05-22T07:02:32.648Z"
   },
   {
    "duration": 15,
    "start_time": "2023-05-22T07:02:32.657Z"
   },
   {
    "duration": 7,
    "start_time": "2023-05-22T07:02:32.673Z"
   },
   {
    "duration": 11,
    "start_time": "2023-05-22T07:02:32.681Z"
   },
   {
    "duration": 9,
    "start_time": "2023-05-22T07:02:32.694Z"
   },
   {
    "duration": 8,
    "start_time": "2023-05-22T07:02:32.706Z"
   },
   {
    "duration": 9,
    "start_time": "2023-05-22T07:02:32.715Z"
   },
   {
    "duration": 8,
    "start_time": "2023-05-22T07:02:32.725Z"
   },
   {
    "duration": 225,
    "start_time": "2023-05-22T07:02:32.734Z"
   },
   {
    "duration": 170,
    "start_time": "2023-05-22T07:02:32.960Z"
   },
   {
    "duration": 254,
    "start_time": "2023-05-22T07:02:33.132Z"
   },
   {
    "duration": 231,
    "start_time": "2023-05-22T07:02:33.387Z"
   },
   {
    "duration": 278,
    "start_time": "2023-05-22T07:02:33.619Z"
   },
   {
    "duration": 4,
    "start_time": "2023-05-22T07:02:33.899Z"
   },
   {
    "duration": 116,
    "start_time": "2023-05-22T07:02:33.905Z"
   },
   {
    "duration": 4,
    "start_time": "2023-05-22T07:02:34.022Z"
   },
   {
    "duration": 118,
    "start_time": "2023-05-22T07:02:34.027Z"
   },
   {
    "duration": 3,
    "start_time": "2023-05-22T07:02:34.146Z"
   },
   {
    "duration": 9,
    "start_time": "2023-05-22T07:02:34.151Z"
   },
   {
    "duration": 5,
    "start_time": "2023-05-22T07:02:34.161Z"
   },
   {
    "duration": 3,
    "start_time": "2023-05-22T07:02:34.167Z"
   },
   {
    "duration": 3,
    "start_time": "2023-05-22T07:02:34.185Z"
   },
   {
    "duration": 7,
    "start_time": "2023-05-22T07:02:34.189Z"
   },
   {
    "duration": 384,
    "start_time": "2023-05-22T07:02:34.197Z"
   },
   {
    "duration": 10,
    "start_time": "2023-05-22T07:02:34.584Z"
   },
   {
    "duration": 10,
    "start_time": "2023-05-22T07:02:34.595Z"
   },
   {
    "duration": 7,
    "start_time": "2023-05-22T07:02:34.607Z"
   },
   {
    "duration": 12,
    "start_time": "2023-05-22T07:02:34.615Z"
   },
   {
    "duration": 18,
    "start_time": "2023-05-22T07:02:34.628Z"
   },
   {
    "duration": 11,
    "start_time": "2023-05-22T07:02:34.647Z"
   },
   {
    "duration": 7,
    "start_time": "2023-05-22T07:02:34.684Z"
   },
   {
    "duration": 6,
    "start_time": "2023-05-22T07:02:34.692Z"
   },
   {
    "duration": 10,
    "start_time": "2023-05-22T07:02:34.699Z"
   },
   {
    "duration": 11,
    "start_time": "2023-05-22T07:03:28.863Z"
   },
   {
    "duration": 17,
    "start_time": "2023-05-22T07:04:05.254Z"
   },
   {
    "duration": 12,
    "start_time": "2023-05-22T07:04:36.964Z"
   },
   {
    "duration": 6,
    "start_time": "2023-05-22T07:05:20.366Z"
   },
   {
    "duration": 7,
    "start_time": "2023-05-22T07:05:20.965Z"
   },
   {
    "duration": 9,
    "start_time": "2023-05-22T07:05:52.990Z"
   },
   {
    "duration": 85,
    "start_time": "2023-05-22T07:06:09.798Z"
   },
   {
    "duration": 71,
    "start_time": "2023-05-22T07:06:12.640Z"
   },
   {
    "duration": 8,
    "start_time": "2023-05-22T07:06:15.598Z"
   },
   {
    "duration": 593,
    "start_time": "2023-05-22T07:06:30.600Z"
   },
   {
    "duration": 30,
    "start_time": "2023-05-22T07:06:31.195Z"
   },
   {
    "duration": 32,
    "start_time": "2023-05-22T07:06:31.227Z"
   },
   {
    "duration": 35,
    "start_time": "2023-05-22T07:06:31.261Z"
   },
   {
    "duration": 40,
    "start_time": "2023-05-22T07:06:31.297Z"
   },
   {
    "duration": 26,
    "start_time": "2023-05-22T07:06:31.339Z"
   },
   {
    "duration": 48,
    "start_time": "2023-05-22T07:06:31.366Z"
   },
   {
    "duration": 27,
    "start_time": "2023-05-22T07:06:31.415Z"
   },
   {
    "duration": 28,
    "start_time": "2023-05-22T07:06:31.443Z"
   },
   {
    "duration": 38,
    "start_time": "2023-05-22T07:06:31.474Z"
   },
   {
    "duration": 73,
    "start_time": "2023-05-22T07:06:31.514Z"
   },
   {
    "duration": 13,
    "start_time": "2023-05-22T07:06:31.588Z"
   },
   {
    "duration": 40,
    "start_time": "2023-05-22T07:06:31.602Z"
   },
   {
    "duration": 52,
    "start_time": "2023-05-22T07:06:31.643Z"
   },
   {
    "duration": 48,
    "start_time": "2023-05-22T07:06:31.697Z"
   },
   {
    "duration": 160,
    "start_time": "2023-05-22T07:06:31.747Z"
   },
   {
    "duration": 57,
    "start_time": "2023-05-22T07:06:31.908Z"
   },
   {
    "duration": 184,
    "start_time": "2023-05-22T07:06:31.967Z"
   },
   {
    "duration": 100,
    "start_time": "2023-05-22T07:06:32.152Z"
   },
   {
    "duration": 5,
    "start_time": "2023-05-22T07:06:32.253Z"
   },
   {
    "duration": 29,
    "start_time": "2023-05-22T07:06:32.259Z"
   },
   {
    "duration": 38,
    "start_time": "2023-05-22T07:06:32.290Z"
   },
   {
    "duration": 29,
    "start_time": "2023-05-22T07:06:32.329Z"
   },
   {
    "duration": 97,
    "start_time": "2023-05-22T07:06:32.359Z"
   },
   {
    "duration": 95,
    "start_time": "2023-05-22T07:06:32.457Z"
   },
   {
    "duration": 129,
    "start_time": "2023-05-22T07:06:32.553Z"
   },
   {
    "duration": 47,
    "start_time": "2023-05-22T07:06:32.683Z"
   },
   {
    "duration": 9,
    "start_time": "2023-05-22T07:06:32.733Z"
   },
   {
    "duration": 5,
    "start_time": "2023-05-22T07:06:32.744Z"
   },
   {
    "duration": 10,
    "start_time": "2023-05-22T07:06:32.750Z"
   },
   {
    "duration": 225,
    "start_time": "2023-05-22T07:06:32.761Z"
   },
   {
    "duration": 158,
    "start_time": "2023-05-22T07:06:32.987Z"
   },
   {
    "duration": 260,
    "start_time": "2023-05-22T07:06:33.146Z"
   },
   {
    "duration": 219,
    "start_time": "2023-05-22T07:06:33.407Z"
   },
   {
    "duration": 265,
    "start_time": "2023-05-22T07:06:33.627Z"
   },
   {
    "duration": 5,
    "start_time": "2023-05-22T07:06:33.893Z"
   },
   {
    "duration": 115,
    "start_time": "2023-05-22T07:06:33.899Z"
   },
   {
    "duration": 4,
    "start_time": "2023-05-22T07:06:34.016Z"
   },
   {
    "duration": 119,
    "start_time": "2023-05-22T07:06:34.021Z"
   },
   {
    "duration": 4,
    "start_time": "2023-05-22T07:06:34.141Z"
   },
   {
    "duration": 6,
    "start_time": "2023-05-22T07:06:34.146Z"
   },
   {
    "duration": 7,
    "start_time": "2023-05-22T07:06:34.153Z"
   },
   {
    "duration": 9,
    "start_time": "2023-05-22T07:06:34.161Z"
   },
   {
    "duration": 13,
    "start_time": "2023-05-22T07:06:34.171Z"
   },
   {
    "duration": 6,
    "start_time": "2023-05-22T07:06:34.186Z"
   },
   {
    "duration": 388,
    "start_time": "2023-05-22T07:06:34.193Z"
   },
   {
    "duration": 9,
    "start_time": "2023-05-22T07:06:34.584Z"
   },
   {
    "duration": 8,
    "start_time": "2023-05-22T07:06:34.595Z"
   },
   {
    "duration": 12,
    "start_time": "2023-05-22T07:06:34.604Z"
   },
   {
    "duration": 7,
    "start_time": "2023-05-22T07:06:34.618Z"
   },
   {
    "duration": 19,
    "start_time": "2023-05-22T07:06:34.626Z"
   },
   {
    "duration": 10,
    "start_time": "2023-05-22T07:06:34.646Z"
   },
   {
    "duration": 27,
    "start_time": "2023-05-22T07:06:34.658Z"
   },
   {
    "duration": 7,
    "start_time": "2023-05-22T07:06:34.686Z"
   },
   {
    "duration": 7,
    "start_time": "2023-05-22T07:06:34.695Z"
   },
   {
    "duration": 54,
    "start_time": "2023-05-23T06:06:36.293Z"
   },
   {
    "duration": 793,
    "start_time": "2023-05-23T06:06:41.911Z"
   },
   {
    "duration": 61,
    "start_time": "2023-05-23T06:06:42.706Z"
   },
   {
    "duration": 16,
    "start_time": "2023-05-23T06:06:42.769Z"
   },
   {
    "duration": 3,
    "start_time": "2023-05-23T06:06:42.786Z"
   },
   {
    "duration": 10,
    "start_time": "2023-05-23T06:06:42.792Z"
   },
   {
    "duration": 6,
    "start_time": "2023-05-23T06:06:42.803Z"
   },
   {
    "duration": 11,
    "start_time": "2023-05-23T06:06:42.810Z"
   },
   {
    "duration": 7,
    "start_time": "2023-05-23T06:06:42.823Z"
   },
   {
    "duration": 8,
    "start_time": "2023-05-23T06:06:42.832Z"
   },
   {
    "duration": 10,
    "start_time": "2023-05-23T06:06:42.841Z"
   },
   {
    "duration": 126,
    "start_time": "2023-05-23T06:06:42.852Z"
   },
   {
    "duration": 16,
    "start_time": "2023-05-23T06:06:42.980Z"
   },
   {
    "duration": 12,
    "start_time": "2023-05-23T06:06:42.998Z"
   },
   {
    "duration": 13,
    "start_time": "2023-05-23T06:06:43.012Z"
   },
   {
    "duration": 17,
    "start_time": "2023-05-23T06:06:43.027Z"
   },
   {
    "duration": 16,
    "start_time": "2023-05-23T06:06:43.046Z"
   },
   {
    "duration": 19,
    "start_time": "2023-05-23T06:06:43.064Z"
   },
   {
    "duration": 203,
    "start_time": "2023-05-23T06:06:43.085Z"
   },
   {
    "duration": 121,
    "start_time": "2023-05-23T06:06:43.289Z"
   },
   {
    "duration": 7,
    "start_time": "2023-05-23T06:06:43.412Z"
   },
   {
    "duration": 15,
    "start_time": "2023-05-23T06:06:43.421Z"
   },
   {
    "duration": 20,
    "start_time": "2023-05-23T06:06:43.438Z"
   },
   {
    "duration": 7,
    "start_time": "2023-05-23T06:06:43.460Z"
   },
   {
    "duration": 9,
    "start_time": "2023-05-23T06:06:43.469Z"
   },
   {
    "duration": 10,
    "start_time": "2023-05-23T06:06:43.479Z"
   },
   {
    "duration": 19,
    "start_time": "2023-05-23T06:06:43.490Z"
   },
   {
    "duration": 12,
    "start_time": "2023-05-23T06:06:43.511Z"
   },
   {
    "duration": 30,
    "start_time": "2023-05-23T06:06:43.525Z"
   },
   {
    "duration": 34,
    "start_time": "2023-05-23T06:06:43.557Z"
   },
   {
    "duration": 15,
    "start_time": "2023-05-23T06:06:43.593Z"
   },
   {
    "duration": 7,
    "start_time": "2023-05-23T06:06:46.574Z"
   },
   {
    "duration": 7,
    "start_time": "2023-05-23T06:07:05.382Z"
   },
   {
    "duration": 6,
    "start_time": "2023-05-23T06:07:19.478Z"
   },
   {
    "duration": 38,
    "start_time": "2023-05-23T06:07:45.702Z"
   },
   {
    "duration": 12,
    "start_time": "2023-05-23T06:07:55.710Z"
   },
   {
    "duration": 12,
    "start_time": "2023-05-23T06:08:13.350Z"
   },
   {
    "duration": 15,
    "start_time": "2023-05-23T06:08:36.247Z"
   },
   {
    "duration": 10,
    "start_time": "2023-05-23T06:09:03.958Z"
   },
   {
    "duration": 8,
    "start_time": "2023-05-23T06:10:51.678Z"
   },
   {
    "duration": 8,
    "start_time": "2023-05-23T06:21:36.551Z"
   },
   {
    "duration": 4,
    "start_time": "2023-05-23T06:21:43.606Z"
   },
   {
    "duration": 6,
    "start_time": "2023-05-23T06:21:58.629Z"
   },
   {
    "duration": 12,
    "start_time": "2023-05-23T06:22:02.333Z"
   },
   {
    "duration": 7,
    "start_time": "2023-05-23T06:23:39.902Z"
   },
   {
    "duration": 7,
    "start_time": "2023-05-23T06:23:43.501Z"
   }
  ],
  "kernelspec": {
   "display_name": "Python 3 (ipykernel)",
   "language": "python",
   "name": "python3"
  },
  "language_info": {
   "codemirror_mode": {
    "name": "ipython",
    "version": 3
   },
   "file_extension": ".py",
   "mimetype": "text/x-python",
   "name": "python",
   "nbconvert_exporter": "python",
   "pygments_lexer": "ipython3",
   "version": "3.9.13"
  },
  "toc": {
   "base_numbering": 1,
   "nav_menu": {},
   "number_sections": true,
   "sideBar": true,
   "skip_h1_title": true,
   "title_cell": "Table of Contents",
   "title_sidebar": "Contents",
   "toc_cell": false,
   "toc_position": {},
   "toc_section_display": true,
   "toc_window_display": false
  }
 },
 "nbformat": 4,
 "nbformat_minor": 2
}
